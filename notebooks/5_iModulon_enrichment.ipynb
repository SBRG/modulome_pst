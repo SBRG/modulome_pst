{
 "cells": [
  {
   "cell_type": "markdown",
   "metadata": {
    "toc": true
   },
   "source": [
    "<h1>Table of Contents<span class=\"tocSkip\"></span></h1>\n",
    "<div class=\"toc\"><ul class=\"toc-item\"><li><span><a href=\"#Setup\" data-toc-modified-id=\"Setup-1\"><span class=\"toc-item-num\">1&nbsp;&nbsp;</span>Setup</a></span><ul class=\"toc-item\"><li><span><a href=\"#Check-your-sample-table-(i.e.-metadata-file)\" data-toc-modified-id=\"Check-your-sample-table-(i.e.-metadata-file)-1.1\"><span class=\"toc-item-num\">1.1&nbsp;&nbsp;</span>Check your sample table (i.e. metadata file)</a></span></li><li><span><a href=\"#Check-your-TRN\" data-toc-modified-id=\"Check-your-TRN-1.2\"><span class=\"toc-item-num\">1.2&nbsp;&nbsp;</span>Check your TRN</a></span></li><li><span><a href=\"#Load-the-data\" data-toc-modified-id=\"Load-the-data-1.3\"><span class=\"toc-item-num\">1.3&nbsp;&nbsp;</span>Load the data</a></span></li></ul></li><li><span><a href=\"#Regulatory-iModulons\" data-toc-modified-id=\"Regulatory-iModulons-2\"><span class=\"toc-item-num\">2&nbsp;&nbsp;</span>Regulatory iModulons</a></span></li><li><span><a href=\"#Functional-iModulons\" data-toc-modified-id=\"Functional-iModulons-3\"><span class=\"toc-item-num\">3&nbsp;&nbsp;</span>Functional iModulons</a></span><ul class=\"toc-item\"><li><span><a href=\"#GO-Enrichments\" data-toc-modified-id=\"GO-Enrichments-3.1\"><span class=\"toc-item-num\">3.1&nbsp;&nbsp;</span>GO Enrichments</a></span></li><li><span><a href=\"#KEGG-Enrichments\" data-toc-modified-id=\"KEGG-Enrichments-3.2\"><span class=\"toc-item-num\">3.2&nbsp;&nbsp;</span>KEGG Enrichments</a></span><ul class=\"toc-item\"><li><span><a href=\"#Load-KEGG-mapping\" data-toc-modified-id=\"Load-KEGG-mapping-3.2.1\"><span class=\"toc-item-num\">3.2.1&nbsp;&nbsp;</span>Load KEGG mapping</a></span></li><li><span><a href=\"#Perform-enrichment\" data-toc-modified-id=\"Perform-enrichment-3.2.2\"><span class=\"toc-item-num\">3.2.2&nbsp;&nbsp;</span>Perform enrichment</a></span></li><li><span><a href=\"#Convert-KEGG-IDs-to-human-readable-names\" data-toc-modified-id=\"Convert-KEGG-IDs-to-human-readable-names-3.2.3\"><span class=\"toc-item-num\">3.2.3&nbsp;&nbsp;</span>Convert KEGG IDs to human-readable names</a></span></li><li><span><a href=\"#Save-files\" data-toc-modified-id=\"Save-files-3.2.4\"><span class=\"toc-item-num\">3.2.4&nbsp;&nbsp;</span>Save files</a></span></li></ul></li></ul></li><li><span><a href=\"#Check-for-single-gene-iModulons\" data-toc-modified-id=\"Check-for-single-gene-iModulons-4\"><span class=\"toc-item-num\">4&nbsp;&nbsp;</span>Check for single gene iModulons</a></span></li><li><span><a href=\"#Compare-against-published-iModulons\" data-toc-modified-id=\"Compare-against-published-iModulons-5\"><span class=\"toc-item-num\">5&nbsp;&nbsp;</span>Compare against published iModulons</a></span></li><li><span><a href=\"#Save-iModulon-object\" data-toc-modified-id=\"Save-iModulon-object-6\"><span class=\"toc-item-num\">6&nbsp;&nbsp;</span>Save iModulon object</a></span></li><li><span><a href=\"#Coming-soon\" data-toc-modified-id=\"Coming-soon-7\"><span class=\"toc-item-num\">7&nbsp;&nbsp;</span>Coming soon</a></span></li></ul></div>"
   ]
  },
  {
   "cell_type": "markdown",
   "metadata": {},
   "source": [
    "# Setup\n",
    "This IPython notebook will walk through the steps of characterizing iModulons through semi-automated tools. You will need:\n",
    "* M and A matrices\n",
    "* Expression data (e.g. `log_tpm_norm.csv`)\n",
    "* Gene table and KEGG/GO annotations (Generated in `gene_annotation.ipynb`)\n",
    "* Sample table, with a column for `project` and `condition`\n",
    "* TRN file\n",
    "\n",
    "Optional:\n",
    "* iModulon table (if you already have some characterized iModulons)"
   ]
  },
  {
   "cell_type": "code",
   "execution_count": 1,
   "metadata": {},
   "outputs": [],
   "source": [
    "from pymodulon.core import IcaData\n",
    "from os import path\n",
    "import pandas as pd\n",
    "import re\n",
    "from Bio.KEGG import REST\n",
    "from tqdm.notebook import tqdm"
   ]
  },
  {
   "cell_type": "code",
   "execution_count": 2,
   "metadata": {},
   "outputs": [],
   "source": [
    "# Enter the location of your data here\n",
    "data_dir = '../data/'"
   ]
  },
  {
   "cell_type": "markdown",
   "metadata": {},
   "source": [
    "## Check your sample table (i.e. metadata file)\n",
    "Your metadata file will probably have a lot of columns, most of which you may not care about. Feel free to save a secondary copy of your metadata file with only columns that seem relevant to you. The two most important columns are:\n",
    "1. `project`\n",
    "2. `condition`\n",
    "\n",
    "Make sure that these columns exist in your metadata file"
   ]
  },
  {
   "cell_type": "code",
   "execution_count": 3,
   "metadata": {},
   "outputs": [
    {
     "data": {
      "text/html": [
       "<div>\n",
       "<style scoped>\n",
       "    .dataframe tbody tr th:only-of-type {\n",
       "        vertical-align: middle;\n",
       "    }\n",
       "\n",
       "    .dataframe tbody tr th {\n",
       "        vertical-align: top;\n",
       "    }\n",
       "\n",
       "    .dataframe thead th {\n",
       "        text-align: right;\n",
       "    }\n",
       "</style>\n",
       "<table border=\"1\" class=\"dataframe\">\n",
       "  <thead>\n",
       "    <tr style=\"text-align: right;\">\n",
       "      <th></th>\n",
       "      <th>project</th>\n",
       "      <th>condition</th>\n",
       "    </tr>\n",
       "  </thead>\n",
       "  <tbody>\n",
       "    <tr>\n",
       "      <th>SRX1828913</th>\n",
       "      <td>algU_regulon</td>\n",
       "      <td>empty_vector</td>\n",
       "    </tr>\n",
       "    <tr>\n",
       "      <th>SRX1828914</th>\n",
       "      <td>algU_regulon</td>\n",
       "      <td>algU_del_sacB</td>\n",
       "    </tr>\n",
       "    <tr>\n",
       "      <th>SRX1828915</th>\n",
       "      <td>algU_regulon</td>\n",
       "      <td>empty_vector</td>\n",
       "    </tr>\n",
       "    <tr>\n",
       "      <th>SRX1828916</th>\n",
       "      <td>algU_regulon</td>\n",
       "      <td>algU_del_sacB</td>\n",
       "    </tr>\n",
       "    <tr>\n",
       "      <th>SRX1828917</th>\n",
       "      <td>algU_regulon</td>\n",
       "      <td>empty_vector</td>\n",
       "    </tr>\n",
       "  </tbody>\n",
       "</table>\n",
       "</div>"
      ],
      "text/plain": [
       "                 project      condition\n",
       "SRX1828913  algU_regulon   empty_vector\n",
       "SRX1828914  algU_regulon  algU_del_sacB\n",
       "SRX1828915  algU_regulon   empty_vector\n",
       "SRX1828916  algU_regulon  algU_del_sacB\n",
       "SRX1828917  algU_regulon   empty_vector"
      ]
     },
     "execution_count": 3,
     "metadata": {},
     "output_type": "execute_result"
    }
   ],
   "source": [
    "df_metadata = pd.read_csv(path.join(data_dir,'metadata_qc.csv'),index_col=0)\n",
    "df_metadata[['project','condition']].head()"
   ]
  },
  {
   "cell_type": "code",
   "execution_count": 4,
   "metadata": {},
   "outputs": [
    {
     "name": "stdout",
     "output_type": "stream",
     "text": [
      "True\n",
      "True\n"
     ]
    }
   ],
   "source": [
    "print(df_metadata.project.notnull().all())\n",
    "print(df_metadata.condition.notnull().all())"
   ]
  },
  {
   "cell_type": "markdown",
   "metadata": {},
   "source": [
    "## Check your TRN"
   ]
  },
  {
   "cell_type": "markdown",
   "metadata": {},
   "source": [
    "Each row of the TRN file represents a regulatory interaction.  \n",
    "**Your TRN file must have the following columns:**\n",
    "1. `regulator` - Name of regulator (`/` or `+` characters will be converted to `;`)\n",
    "1. `gene_id` - Locus tag of gene being regulated\n",
    "\n",
    "The following columns are optional, but are helpful to have:\n",
    "1. `regulator_id` - Locus tag of regulator\n",
    "1. `gene_name` - Name of gene (can automatically update this using `name2num`)\n",
    "1. `direction` - Direction of regulation ('+' for activation, '-' for repression, '?' or NaN for unknown)\n",
    "1. `evidence` - Evidence of regulation (e.g. ChIP-exo, qRT-PCR, SELEX, Motif search)\n",
    "1. `PMID` - Reference for regulation\n",
    "\n",
    "You may add any other columns that could help you. TRNs may be saved as either CSV or TSV files. See below for an example:"
   ]
  },
  {
   "cell_type": "code",
   "execution_count": 5,
   "metadata": {},
   "outputs": [
    {
     "data": {
      "text/html": [
       "<div>\n",
       "<style scoped>\n",
       "    .dataframe tbody tr th:only-of-type {\n",
       "        vertical-align: middle;\n",
       "    }\n",
       "\n",
       "    .dataframe tbody tr th {\n",
       "        vertical-align: top;\n",
       "    }\n",
       "\n",
       "    .dataframe thead th {\n",
       "        text-align: right;\n",
       "    }\n",
       "</style>\n",
       "<table border=\"1\" class=\"dataframe\">\n",
       "  <thead>\n",
       "    <tr style=\"text-align: right;\">\n",
       "      <th></th>\n",
       "      <th>regulator_old</th>\n",
       "      <th>gene_id_old</th>\n",
       "      <th>regulator</th>\n",
       "      <th>gene_id</th>\n",
       "    </tr>\n",
       "  </thead>\n",
       "  <tbody>\n",
       "    <tr>\n",
       "      <th>0</th>\n",
       "      <td>PSPTO1158</td>\n",
       "      <td>PSPTO1157</td>\n",
       "      <td>PSPTO_RS06115</td>\n",
       "      <td>PSPTO_RS06110</td>\n",
       "    </tr>\n",
       "    <tr>\n",
       "      <th>1</th>\n",
       "      <td>PSPTO1158</td>\n",
       "      <td>PSPTO1156</td>\n",
       "      <td>PSPTO_RS06115</td>\n",
       "      <td>PSPTO_RS06105</td>\n",
       "    </tr>\n",
       "    <tr>\n",
       "      <th>2</th>\n",
       "      <td>PSPTO1158</td>\n",
       "      <td>PSPTO1155</td>\n",
       "      <td>PSPTO_RS06115</td>\n",
       "      <td>PSPTO_RS06100</td>\n",
       "    </tr>\n",
       "    <tr>\n",
       "      <th>3</th>\n",
       "      <td>PSPTO1158</td>\n",
       "      <td>PSPTO1154</td>\n",
       "      <td>PSPTO_RS06115</td>\n",
       "      <td>PSPTO_RS06095</td>\n",
       "    </tr>\n",
       "    <tr>\n",
       "      <th>4</th>\n",
       "      <td>PSPTO1158</td>\n",
       "      <td>PSPTO1153</td>\n",
       "      <td>PSPTO_RS06115</td>\n",
       "      <td>PSPTO_RS06090</td>\n",
       "    </tr>\n",
       "  </tbody>\n",
       "</table>\n",
       "</div>"
      ],
      "text/plain": [
       "  regulator_old gene_id_old      regulator        gene_id\n",
       "0     PSPTO1158   PSPTO1157  PSPTO_RS06115  PSPTO_RS06110\n",
       "1     PSPTO1158   PSPTO1156  PSPTO_RS06115  PSPTO_RS06105\n",
       "2     PSPTO1158   PSPTO1155  PSPTO_RS06115  PSPTO_RS06100\n",
       "3     PSPTO1158   PSPTO1154  PSPTO_RS06115  PSPTO_RS06095\n",
       "4     PSPTO1158   PSPTO1153  PSPTO_RS06115  PSPTO_RS06090"
      ]
     },
     "execution_count": 5,
     "metadata": {},
     "output_type": "execute_result"
    }
   ],
   "source": [
    "df_trn = pd.read_csv(path.join(data_dir,'TRN.csv'), index_col=0)\n",
    "df_trn.head()"
   ]
  },
  {
   "cell_type": "markdown",
   "metadata": {},
   "source": [
    "The `regulator` and `gene_id` must be filled in for each row"
   ]
  },
  {
   "cell_type": "code",
   "execution_count": 6,
   "metadata": {},
   "outputs": [
    {
     "name": "stdout",
     "output_type": "stream",
     "text": [
      "True\n",
      "True\n"
     ]
    }
   ],
   "source": [
    "print(df_trn.regulator.notnull().all())\n",
    "print(df_trn.gene_id.notnull().all())"
   ]
  },
  {
   "cell_type": "markdown",
   "metadata": {},
   "source": [
    "## Load the data\n",
    "You're now ready to load your IcaData object!"
   ]
  },
  {
   "cell_type": "markdown",
   "metadata": {},
   "source": [
    "If you don't have a TRN (or have a very minimal TRN), use `threshold_method = 'kmeans'`"
   ]
  },
  {
   "cell_type": "code",
   "execution_count": 38,
   "metadata": {},
   "outputs": [],
   "source": [
    "ica_data = IcaData(M = path.join(data_dir,'M.csv'),\n",
    "                   A = path.join(data_dir,'A.csv'),\n",
    "                   X = path.join(data_dir,'X.csv'),\n",
    "                   gene_table = path.join(data_dir,'gene_info.csv'),\n",
    "                   sample_table = path.join(data_dir,'metadata_qc.csv'),\n",
    "                   trn = path.join(data_dir,'TRN.csv'))"
   ]
  },
  {
   "cell_type": "markdown",
   "metadata": {},
   "source": [
    "# Regulatory iModulons\n",
    "Use `compute_trn_enrichment` to automatically check for Regulatory iModulons. The more complete your TRN, the more regulatory iModulons you'll find."
   ]
  },
  {
   "cell_type": "code",
   "execution_count": 39,
   "metadata": {},
   "outputs": [
    {
     "data": {
      "text/html": [
       "<div>\n",
       "<style scoped>\n",
       "    .dataframe tbody tr th:only-of-type {\n",
       "        vertical-align: middle;\n",
       "    }\n",
       "\n",
       "    .dataframe tbody tr th {\n",
       "        vertical-align: top;\n",
       "    }\n",
       "\n",
       "    .dataframe thead th {\n",
       "        text-align: right;\n",
       "    }\n",
       "</style>\n",
       "<table border=\"1\" class=\"dataframe\">\n",
       "  <thead>\n",
       "    <tr style=\"text-align: right;\">\n",
       "      <th></th>\n",
       "      <th>imodulon</th>\n",
       "      <th>regulator</th>\n",
       "      <th>pvalue</th>\n",
       "      <th>qvalue</th>\n",
       "      <th>precision</th>\n",
       "      <th>recall</th>\n",
       "      <th>f1score</th>\n",
       "      <th>TP</th>\n",
       "      <th>regulon_size</th>\n",
       "      <th>imodulon_size</th>\n",
       "      <th>n_regs</th>\n",
       "    </tr>\n",
       "  </thead>\n",
       "  <tbody>\n",
       "    <tr>\n",
       "      <th>0</th>\n",
       "      <td>0</td>\n",
       "      <td>PSPTO_RS01865</td>\n",
       "      <td>9.808664e-10</td>\n",
       "      <td>1.039718e-07</td>\n",
       "      <td>0.500000</td>\n",
       "      <td>0.151515</td>\n",
       "      <td>0.232558</td>\n",
       "      <td>5.0</td>\n",
       "      <td>10.0</td>\n",
       "      <td>33.0</td>\n",
       "      <td>1.0</td>\n",
       "    </tr>\n",
       "    <tr>\n",
       "      <th>1</th>\n",
       "      <td>0</td>\n",
       "      <td>PSPTO_RS27090</td>\n",
       "      <td>4.024147e-09</td>\n",
       "      <td>2.132798e-07</td>\n",
       "      <td>0.800000</td>\n",
       "      <td>0.121212</td>\n",
       "      <td>0.210526</td>\n",
       "      <td>4.0</td>\n",
       "      <td>5.0</td>\n",
       "      <td>33.0</td>\n",
       "      <td>1.0</td>\n",
       "    </tr>\n",
       "    <tr>\n",
       "      <th>2</th>\n",
       "      <td>0</td>\n",
       "      <td>PSPTO_RS06115</td>\n",
       "      <td>1.202499e-08</td>\n",
       "      <td>4.248829e-07</td>\n",
       "      <td>0.666667</td>\n",
       "      <td>0.121212</td>\n",
       "      <td>0.205128</td>\n",
       "      <td>4.0</td>\n",
       "      <td>6.0</td>\n",
       "      <td>33.0</td>\n",
       "      <td>1.0</td>\n",
       "    </tr>\n",
       "    <tr>\n",
       "      <th>3</th>\n",
       "      <td>0</td>\n",
       "      <td>ykkC-yxkD</td>\n",
       "      <td>2.794802e-08</td>\n",
       "      <td>7.406224e-07</td>\n",
       "      <td>0.571429</td>\n",
       "      <td>0.121212</td>\n",
       "      <td>0.200000</td>\n",
       "      <td>4.0</td>\n",
       "      <td>7.0</td>\n",
       "      <td>33.0</td>\n",
       "      <td>1.0</td>\n",
       "    </tr>\n",
       "    <tr>\n",
       "      <th>4</th>\n",
       "      <td>7</td>\n",
       "      <td>PSPTO_RS19115</td>\n",
       "      <td>2.561400e-08</td>\n",
       "      <td>2.715084e-06</td>\n",
       "      <td>0.750000</td>\n",
       "      <td>0.250000</td>\n",
       "      <td>0.375000</td>\n",
       "      <td>3.0</td>\n",
       "      <td>4.0</td>\n",
       "      <td>12.0</td>\n",
       "      <td>1.0</td>\n",
       "    </tr>\n",
       "    <tr>\n",
       "      <th>5</th>\n",
       "      <td>26</td>\n",
       "      <td>PSPTO_RS27215</td>\n",
       "      <td>1.720628e-16</td>\n",
       "      <td>1.823865e-14</td>\n",
       "      <td>0.727273</td>\n",
       "      <td>0.216216</td>\n",
       "      <td>0.333333</td>\n",
       "      <td>8.0</td>\n",
       "      <td>11.0</td>\n",
       "      <td>37.0</td>\n",
       "      <td>1.0</td>\n",
       "    </tr>\n",
       "    <tr>\n",
       "      <th>6</th>\n",
       "      <td>29</td>\n",
       "      <td>PSPTO_RS18145</td>\n",
       "      <td>9.939117e-18</td>\n",
       "      <td>1.053546e-15</td>\n",
       "      <td>0.727273</td>\n",
       "      <td>0.296296</td>\n",
       "      <td>0.421053</td>\n",
       "      <td>8.0</td>\n",
       "      <td>11.0</td>\n",
       "      <td>27.0</td>\n",
       "      <td>1.0</td>\n",
       "    </tr>\n",
       "  </tbody>\n",
       "</table>\n",
       "</div>"
      ],
      "text/plain": [
       "   imodulon      regulator        pvalue        qvalue  precision    recall  \\\n",
       "0         0  PSPTO_RS01865  9.808664e-10  1.039718e-07   0.500000  0.151515   \n",
       "1         0  PSPTO_RS27090  4.024147e-09  2.132798e-07   0.800000  0.121212   \n",
       "2         0  PSPTO_RS06115  1.202499e-08  4.248829e-07   0.666667  0.121212   \n",
       "3         0      ykkC-yxkD  2.794802e-08  7.406224e-07   0.571429  0.121212   \n",
       "4         7  PSPTO_RS19115  2.561400e-08  2.715084e-06   0.750000  0.250000   \n",
       "5        26  PSPTO_RS27215  1.720628e-16  1.823865e-14   0.727273  0.216216   \n",
       "6        29  PSPTO_RS18145  9.939117e-18  1.053546e-15   0.727273  0.296296   \n",
       "\n",
       "    f1score   TP  regulon_size  imodulon_size  n_regs  \n",
       "0  0.232558  5.0          10.0           33.0     1.0  \n",
       "1  0.210526  4.0           5.0           33.0     1.0  \n",
       "2  0.205128  4.0           6.0           33.0     1.0  \n",
       "3  0.200000  4.0           7.0           33.0     1.0  \n",
       "4  0.375000  3.0           4.0           12.0     1.0  \n",
       "5  0.333333  8.0          11.0           37.0     1.0  \n",
       "6  0.421053  8.0          11.0           27.0     1.0  "
      ]
     },
     "execution_count": 39,
     "metadata": {},
     "output_type": "execute_result"
    }
   ],
   "source": [
    "ica_data.compute_trn_enrichment(save=True)"
   ]
  },
  {
   "cell_type": "code",
   "execution_count": 9,
   "metadata": {},
   "outputs": [
    {
     "data": {
      "text/html": [
       "<div>\n",
       "<style scoped>\n",
       "    .dataframe tbody tr th:only-of-type {\n",
       "        vertical-align: middle;\n",
       "    }\n",
       "\n",
       "    .dataframe tbody tr th {\n",
       "        vertical-align: top;\n",
       "    }\n",
       "\n",
       "    .dataframe thead th {\n",
       "        text-align: right;\n",
       "    }\n",
       "</style>\n",
       "<table border=\"1\" class=\"dataframe\">\n",
       "  <thead>\n",
       "    <tr style=\"text-align: right;\">\n",
       "      <th></th>\n",
       "      <th>regulator</th>\n",
       "      <th>pvalue</th>\n",
       "      <th>qvalue</th>\n",
       "      <th>precision</th>\n",
       "      <th>recall</th>\n",
       "      <th>f1score</th>\n",
       "      <th>TP</th>\n",
       "      <th>regulon_size</th>\n",
       "      <th>imodulon_size</th>\n",
       "      <th>n_regs</th>\n",
       "    </tr>\n",
       "  </thead>\n",
       "  <tbody>\n",
       "    <tr>\n",
       "      <th>0</th>\n",
       "      <td>PSPTO_RS01865</td>\n",
       "      <td>9.808664e-10</td>\n",
       "      <td>1.039718e-07</td>\n",
       "      <td>0.5</td>\n",
       "      <td>0.151515</td>\n",
       "      <td>0.232558</td>\n",
       "      <td>5.0</td>\n",
       "      <td>10.0</td>\n",
       "      <td>33.0</td>\n",
       "      <td>1.0</td>\n",
       "    </tr>\n",
       "    <tr>\n",
       "      <th>1</th>\n",
       "      <td>NaN</td>\n",
       "      <td>NaN</td>\n",
       "      <td>NaN</td>\n",
       "      <td>NaN</td>\n",
       "      <td>NaN</td>\n",
       "      <td>NaN</td>\n",
       "      <td>NaN</td>\n",
       "      <td>NaN</td>\n",
       "      <td>NaN</td>\n",
       "      <td>NaN</td>\n",
       "    </tr>\n",
       "    <tr>\n",
       "      <th>2</th>\n",
       "      <td>NaN</td>\n",
       "      <td>NaN</td>\n",
       "      <td>NaN</td>\n",
       "      <td>NaN</td>\n",
       "      <td>NaN</td>\n",
       "      <td>NaN</td>\n",
       "      <td>NaN</td>\n",
       "      <td>NaN</td>\n",
       "      <td>NaN</td>\n",
       "      <td>NaN</td>\n",
       "    </tr>\n",
       "    <tr>\n",
       "      <th>3</th>\n",
       "      <td>NaN</td>\n",
       "      <td>NaN</td>\n",
       "      <td>NaN</td>\n",
       "      <td>NaN</td>\n",
       "      <td>NaN</td>\n",
       "      <td>NaN</td>\n",
       "      <td>NaN</td>\n",
       "      <td>NaN</td>\n",
       "      <td>NaN</td>\n",
       "      <td>NaN</td>\n",
       "    </tr>\n",
       "    <tr>\n",
       "      <th>4</th>\n",
       "      <td>NaN</td>\n",
       "      <td>NaN</td>\n",
       "      <td>NaN</td>\n",
       "      <td>NaN</td>\n",
       "      <td>NaN</td>\n",
       "      <td>NaN</td>\n",
       "      <td>NaN</td>\n",
       "      <td>NaN</td>\n",
       "      <td>NaN</td>\n",
       "      <td>NaN</td>\n",
       "    </tr>\n",
       "  </tbody>\n",
       "</table>\n",
       "</div>"
      ],
      "text/plain": [
       "       regulator        pvalue        qvalue  precision    recall   f1score  \\\n",
       "0  PSPTO_RS01865  9.808664e-10  1.039718e-07        0.5  0.151515  0.232558   \n",
       "1            NaN           NaN           NaN        NaN       NaN       NaN   \n",
       "2            NaN           NaN           NaN        NaN       NaN       NaN   \n",
       "3            NaN           NaN           NaN        NaN       NaN       NaN   \n",
       "4            NaN           NaN           NaN        NaN       NaN       NaN   \n",
       "\n",
       "    TP  regulon_size  imodulon_size  n_regs  \n",
       "0  5.0          10.0           33.0     1.0  \n",
       "1  NaN           NaN            NaN     NaN  \n",
       "2  NaN           NaN            NaN     NaN  \n",
       "3  NaN           NaN            NaN     NaN  \n",
       "4  NaN           NaN            NaN     NaN  "
      ]
     },
     "execution_count": 9,
     "metadata": {},
     "output_type": "execute_result"
    }
   ],
   "source": [
    "ica_data.imodulon_table.head()"
   ]
  },
  {
   "cell_type": "markdown",
   "metadata": {},
   "source": [
    "You can rename iModulons in this jupyter notebook, or you can save the iModulon table as a CSV and edit it in Excel."
   ]
  },
  {
   "cell_type": "code",
   "execution_count": 10,
   "metadata": {},
   "outputs": [
    {
     "data": {
      "text/html": [
       "<div>\n",
       "<style scoped>\n",
       "    .dataframe tbody tr th:only-of-type {\n",
       "        vertical-align: middle;\n",
       "    }\n",
       "\n",
       "    .dataframe tbody tr th {\n",
       "        vertical-align: top;\n",
       "    }\n",
       "\n",
       "    .dataframe thead th {\n",
       "        text-align: right;\n",
       "    }\n",
       "</style>\n",
       "<table border=\"1\" class=\"dataframe\">\n",
       "  <thead>\n",
       "    <tr style=\"text-align: right;\">\n",
       "      <th></th>\n",
       "      <th>regulator</th>\n",
       "      <th>pvalue</th>\n",
       "      <th>qvalue</th>\n",
       "      <th>precision</th>\n",
       "      <th>recall</th>\n",
       "      <th>f1score</th>\n",
       "      <th>TP</th>\n",
       "      <th>regulon_size</th>\n",
       "      <th>imodulon_size</th>\n",
       "      <th>n_regs</th>\n",
       "    </tr>\n",
       "  </thead>\n",
       "  <tbody>\n",
       "    <tr>\n",
       "      <th>0</th>\n",
       "      <td>PSPTO_RS01865</td>\n",
       "      <td>9.808664e-10</td>\n",
       "      <td>1.039718e-07</td>\n",
       "      <td>0.500000</td>\n",
       "      <td>0.151515</td>\n",
       "      <td>0.232558</td>\n",
       "      <td>5.0</td>\n",
       "      <td>10.0</td>\n",
       "      <td>33.0</td>\n",
       "      <td>1.0</td>\n",
       "    </tr>\n",
       "    <tr>\n",
       "      <th>7</th>\n",
       "      <td>PSPTO_RS19115</td>\n",
       "      <td>2.561400e-08</td>\n",
       "      <td>2.715084e-06</td>\n",
       "      <td>0.750000</td>\n",
       "      <td>0.250000</td>\n",
       "      <td>0.375000</td>\n",
       "      <td>3.0</td>\n",
       "      <td>4.0</td>\n",
       "      <td>12.0</td>\n",
       "      <td>1.0</td>\n",
       "    </tr>\n",
       "    <tr>\n",
       "      <th>26</th>\n",
       "      <td>PSPTO_RS27215</td>\n",
       "      <td>1.720628e-16</td>\n",
       "      <td>1.823865e-14</td>\n",
       "      <td>0.727273</td>\n",
       "      <td>0.216216</td>\n",
       "      <td>0.333333</td>\n",
       "      <td>8.0</td>\n",
       "      <td>11.0</td>\n",
       "      <td>37.0</td>\n",
       "      <td>1.0</td>\n",
       "    </tr>\n",
       "    <tr>\n",
       "      <th>29</th>\n",
       "      <td>PSPTO_RS18145</td>\n",
       "      <td>9.939117e-18</td>\n",
       "      <td>1.053546e-15</td>\n",
       "      <td>0.727273</td>\n",
       "      <td>0.296296</td>\n",
       "      <td>0.421053</td>\n",
       "      <td>8.0</td>\n",
       "      <td>11.0</td>\n",
       "      <td>27.0</td>\n",
       "      <td>1.0</td>\n",
       "    </tr>\n",
       "  </tbody>\n",
       "</table>\n",
       "</div>"
      ],
      "text/plain": [
       "        regulator        pvalue        qvalue  precision    recall   f1score  \\\n",
       "0   PSPTO_RS01865  9.808664e-10  1.039718e-07   0.500000  0.151515  0.232558   \n",
       "7   PSPTO_RS19115  2.561400e-08  2.715084e-06   0.750000  0.250000  0.375000   \n",
       "26  PSPTO_RS27215  1.720628e-16  1.823865e-14   0.727273  0.216216  0.333333   \n",
       "29  PSPTO_RS18145  9.939117e-18  1.053546e-15   0.727273  0.296296  0.421053   \n",
       "\n",
       "     TP  regulon_size  imodulon_size  n_regs  \n",
       "0   5.0          10.0           33.0     1.0  \n",
       "7   3.0           4.0           12.0     1.0  \n",
       "26  8.0          11.0           37.0     1.0  \n",
       "29  8.0          11.0           27.0     1.0  "
      ]
     },
     "execution_count": 10,
     "metadata": {},
     "output_type": "execute_result"
    }
   ],
   "source": [
    "reg_entries = ica_data.imodulon_table[ica_data.imodulon_table.regulator.notnull()]\n",
    "reg_entries"
   ]
  },
  {
   "cell_type": "code",
   "execution_count": 11,
   "metadata": {},
   "outputs": [
    {
     "name": "stdout",
     "output_type": "stream",
     "text": [
      "['PSPTO_RS01865', 1, 2, 3, 4]\n"
     ]
    }
   ],
   "source": [
    "ica_data.rename_imodulons(reg_entries.regulator.to_dict())\n",
    "print(ica_data.imodulon_names[:5])"
   ]
  },
  {
   "cell_type": "markdown",
   "metadata": {},
   "source": [
    "# Functional iModulons"
   ]
  },
  {
   "cell_type": "markdown",
   "metadata": {},
   "source": [
    "## GO Enrichments"
   ]
  },
  {
   "cell_type": "markdown",
   "metadata": {},
   "source": [
    "The `GO_annotations.csv` file was created from `gene_annotation.ipynb`."
   ]
  },
  {
   "cell_type": "code",
   "execution_count": 12,
   "metadata": {},
   "outputs": [
    {
     "data": {
      "text/html": [
       "<div>\n",
       "<style scoped>\n",
       "    .dataframe tbody tr th:only-of-type {\n",
       "        vertical-align: middle;\n",
       "    }\n",
       "\n",
       "    .dataframe tbody tr th {\n",
       "        vertical-align: top;\n",
       "    }\n",
       "\n",
       "    .dataframe thead th {\n",
       "        text-align: right;\n",
       "    }\n",
       "</style>\n",
       "<table border=\"1\" class=\"dataframe\">\n",
       "  <thead>\n",
       "    <tr style=\"text-align: right;\">\n",
       "      <th></th>\n",
       "      <th>gene_id</th>\n",
       "      <th>gene_ontology</th>\n",
       "    </tr>\n",
       "  </thead>\n",
       "  <tbody>\n",
       "    <tr>\n",
       "      <th>0</th>\n",
       "      <td>PSPTO_RS13735</td>\n",
       "      <td>molecular_function</td>\n",
       "    </tr>\n",
       "    <tr>\n",
       "      <th>1</th>\n",
       "      <td>PSPTO_RS13735</td>\n",
       "      <td>biological_process</td>\n",
       "    </tr>\n",
       "    <tr>\n",
       "      <th>2</th>\n",
       "      <td>PSPTO_RS17555</td>\n",
       "      <td>structural molecule activity</td>\n",
       "    </tr>\n",
       "    <tr>\n",
       "      <th>3</th>\n",
       "      <td>PSPTO_RS17555</td>\n",
       "      <td>viral process</td>\n",
       "    </tr>\n",
       "    <tr>\n",
       "      <th>4</th>\n",
       "      <td>PSPTO_RS14095</td>\n",
       "      <td>molecular_function</td>\n",
       "    </tr>\n",
       "  </tbody>\n",
       "</table>\n",
       "</div>"
      ],
      "text/plain": [
       "         gene_id                 gene_ontology\n",
       "0  PSPTO_RS13735            molecular_function\n",
       "1  PSPTO_RS13735            biological_process\n",
       "2  PSPTO_RS17555  structural molecule activity\n",
       "3  PSPTO_RS17555                 viral process\n",
       "4  PSPTO_RS14095            molecular_function"
      ]
     },
     "execution_count": 12,
     "metadata": {},
     "output_type": "execute_result"
    }
   ],
   "source": [
    "DF_GO = pd.read_csv(path.join(data_dir,'GO_annotations.csv'),index_col=0)\n",
    "DF_GO.head()"
   ]
  },
  {
   "cell_type": "code",
   "execution_count": 13,
   "metadata": {},
   "outputs": [],
   "source": [
    "DF_GO_enrich = ica_data.compute_annotation_enrichment(DF_GO,'gene_ontology')"
   ]
  },
  {
   "cell_type": "code",
   "execution_count": 14,
   "metadata": {},
   "outputs": [],
   "source": [
    "DF_GO_enrich.to_csv(path.join(data_dir,'GO_enrichments.csv'))"
   ]
  },
  {
   "cell_type": "markdown",
   "metadata": {},
   "source": [
    "## KEGG Enrichments"
   ]
  },
  {
   "cell_type": "markdown",
   "metadata": {},
   "source": [
    "### Load KEGG mapping\n",
    "The `kegg_mapping.csv` file was created from `gene_annotation.ipynb`. This contains KEGG orthologies, pathways, modules, and reactions. Only pathways and modules are relevant to iModulon characterization."
   ]
  },
  {
   "cell_type": "code",
   "execution_count": 15,
   "metadata": {},
   "outputs": [
    {
     "name": "stdout",
     "output_type": "stream",
     "text": [
      "['KEGG_pathway' 'KEGG_module' 'KEGG_reaction']\n"
     ]
    },
    {
     "data": {
      "text/html": [
       "<div>\n",
       "<style scoped>\n",
       "    .dataframe tbody tr th:only-of-type {\n",
       "        vertical-align: middle;\n",
       "    }\n",
       "\n",
       "    .dataframe tbody tr th {\n",
       "        vertical-align: top;\n",
       "    }\n",
       "\n",
       "    .dataframe thead th {\n",
       "        text-align: right;\n",
       "    }\n",
       "</style>\n",
       "<table border=\"1\" class=\"dataframe\">\n",
       "  <thead>\n",
       "    <tr style=\"text-align: right;\">\n",
       "      <th></th>\n",
       "      <th>gene_id</th>\n",
       "      <th>database</th>\n",
       "      <th>kegg_id</th>\n",
       "    </tr>\n",
       "  </thead>\n",
       "  <tbody>\n",
       "    <tr>\n",
       "      <th>2891</th>\n",
       "      <td>PSPTO_RS29195</td>\n",
       "      <td>KEGG_pathway</td>\n",
       "      <td>map02026</td>\n",
       "    </tr>\n",
       "    <tr>\n",
       "      <th>2894</th>\n",
       "      <td>PSPTO_RS00005</td>\n",
       "      <td>KEGG_pathway</td>\n",
       "      <td>map02020</td>\n",
       "    </tr>\n",
       "    <tr>\n",
       "      <th>2895</th>\n",
       "      <td>PSPTO_RS00005</td>\n",
       "      <td>KEGG_pathway</td>\n",
       "      <td>map04112</td>\n",
       "    </tr>\n",
       "    <tr>\n",
       "      <th>2902</th>\n",
       "      <td>PSPTO_RS00010</td>\n",
       "      <td>KEGG_pathway</td>\n",
       "      <td>map00230</td>\n",
       "    </tr>\n",
       "    <tr>\n",
       "      <th>2903</th>\n",
       "      <td>PSPTO_RS00010</td>\n",
       "      <td>KEGG_pathway</td>\n",
       "      <td>map00240</td>\n",
       "    </tr>\n",
       "  </tbody>\n",
       "</table>\n",
       "</div>"
      ],
      "text/plain": [
       "            gene_id      database   kegg_id\n",
       "2891  PSPTO_RS29195  KEGG_pathway  map02026\n",
       "2894  PSPTO_RS00005  KEGG_pathway  map02020\n",
       "2895  PSPTO_RS00005  KEGG_pathway  map04112\n",
       "2902  PSPTO_RS00010  KEGG_pathway  map00230\n",
       "2903  PSPTO_RS00010  KEGG_pathway  map00240"
      ]
     },
     "execution_count": 15,
     "metadata": {},
     "output_type": "execute_result"
    }
   ],
   "source": [
    "DF_KEGG = pd.read_csv(path.join(data_dir,'kegg_mapping.csv'),index_col=0)\n",
    "print(DF_KEGG.database.unique())\n",
    "DF_KEGG.head()"
   ]
  },
  {
   "cell_type": "code",
   "execution_count": 16,
   "metadata": {},
   "outputs": [],
   "source": [
    "kegg_pathways = DF_KEGG[DF_KEGG.database == 'KEGG_pathway']\n",
    "kegg_modules = DF_KEGG[DF_KEGG.database == 'KEGG_module']"
   ]
  },
  {
   "cell_type": "markdown",
   "metadata": {},
   "source": [
    "### Perform enrichment\n",
    "Uses the `compute_annotation_enrichment` function"
   ]
  },
  {
   "cell_type": "code",
   "execution_count": 17,
   "metadata": {},
   "outputs": [],
   "source": [
    "DF_pathway_enrich = ica_data.compute_annotation_enrichment(kegg_pathways,'kegg_id')\n",
    "DF_module_enrich = ica_data.compute_annotation_enrichment(kegg_modules,'kegg_id')"
   ]
  },
  {
   "cell_type": "code",
   "execution_count": 18,
   "metadata": {},
   "outputs": [
    {
     "data": {
      "text/html": [
       "<div>\n",
       "<style scoped>\n",
       "    .dataframe tbody tr th:only-of-type {\n",
       "        vertical-align: middle;\n",
       "    }\n",
       "\n",
       "    .dataframe tbody tr th {\n",
       "        vertical-align: top;\n",
       "    }\n",
       "\n",
       "    .dataframe thead th {\n",
       "        text-align: right;\n",
       "    }\n",
       "</style>\n",
       "<table border=\"1\" class=\"dataframe\">\n",
       "  <thead>\n",
       "    <tr style=\"text-align: right;\">\n",
       "      <th></th>\n",
       "      <th>imodulon</th>\n",
       "      <th>kegg_id</th>\n",
       "      <th>pvalue</th>\n",
       "      <th>qvalue</th>\n",
       "      <th>precision</th>\n",
       "      <th>recall</th>\n",
       "      <th>f1score</th>\n",
       "      <th>TP</th>\n",
       "      <th>target_set_size</th>\n",
       "      <th>imodulon_size</th>\n",
       "    </tr>\n",
       "  </thead>\n",
       "  <tbody>\n",
       "    <tr>\n",
       "      <th>0</th>\n",
       "      <td>PSPTO_RS01865</td>\n",
       "      <td>map00240</td>\n",
       "      <td>1.810879e-04</td>\n",
       "      <td>2.477211e-02</td>\n",
       "      <td>0.076923</td>\n",
       "      <td>0.121212</td>\n",
       "      <td>0.094118</td>\n",
       "      <td>4.0</td>\n",
       "      <td>52.0</td>\n",
       "      <td>33.0</td>\n",
       "    </tr>\n",
       "    <tr>\n",
       "      <th>1</th>\n",
       "      <td>PSPTO_RS01865</td>\n",
       "      <td>map02010</td>\n",
       "      <td>2.108265e-04</td>\n",
       "      <td>2.477211e-02</td>\n",
       "      <td>0.030702</td>\n",
       "      <td>0.212121</td>\n",
       "      <td>0.053640</td>\n",
       "      <td>7.0</td>\n",
       "      <td>228.0</td>\n",
       "      <td>33.0</td>\n",
       "    </tr>\n",
       "    <tr>\n",
       "      <th>2</th>\n",
       "      <td>2</td>\n",
       "      <td>map02030</td>\n",
       "      <td>6.483780e-47</td>\n",
       "      <td>1.523688e-44</td>\n",
       "      <td>0.506849</td>\n",
       "      <td>0.336364</td>\n",
       "      <td>0.404372</td>\n",
       "      <td>37.0</td>\n",
       "      <td>73.0</td>\n",
       "      <td>110.0</td>\n",
       "    </tr>\n",
       "    <tr>\n",
       "      <th>3</th>\n",
       "      <td>2</td>\n",
       "      <td>map02020</td>\n",
       "      <td>3.340546e-32</td>\n",
       "      <td>3.925142e-30</td>\n",
       "      <td>0.213115</td>\n",
       "      <td>0.354545</td>\n",
       "      <td>0.266212</td>\n",
       "      <td>39.0</td>\n",
       "      <td>183.0</td>\n",
       "      <td>110.0</td>\n",
       "    </tr>\n",
       "    <tr>\n",
       "      <th>4</th>\n",
       "      <td>2</td>\n",
       "      <td>map02040</td>\n",
       "      <td>2.014606e-08</td>\n",
       "      <td>1.578108e-06</td>\n",
       "      <td>0.236842</td>\n",
       "      <td>0.081818</td>\n",
       "      <td>0.121622</td>\n",
       "      <td>9.0</td>\n",
       "      <td>38.0</td>\n",
       "      <td>110.0</td>\n",
       "    </tr>\n",
       "  </tbody>\n",
       "</table>\n",
       "</div>"
      ],
      "text/plain": [
       "        imodulon   kegg_id        pvalue        qvalue  precision    recall  \\\n",
       "0  PSPTO_RS01865  map00240  1.810879e-04  2.477211e-02   0.076923  0.121212   \n",
       "1  PSPTO_RS01865  map02010  2.108265e-04  2.477211e-02   0.030702  0.212121   \n",
       "2              2  map02030  6.483780e-47  1.523688e-44   0.506849  0.336364   \n",
       "3              2  map02020  3.340546e-32  3.925142e-30   0.213115  0.354545   \n",
       "4              2  map02040  2.014606e-08  1.578108e-06   0.236842  0.081818   \n",
       "\n",
       "    f1score    TP  target_set_size  imodulon_size  \n",
       "0  0.094118   4.0             52.0           33.0  \n",
       "1  0.053640   7.0            228.0           33.0  \n",
       "2  0.404372  37.0             73.0          110.0  \n",
       "3  0.266212  39.0            183.0          110.0  \n",
       "4  0.121622   9.0             38.0          110.0  "
      ]
     },
     "execution_count": 18,
     "metadata": {},
     "output_type": "execute_result"
    }
   ],
   "source": [
    "DF_pathway_enrich.head()"
   ]
  },
  {
   "cell_type": "code",
   "execution_count": 19,
   "metadata": {},
   "outputs": [
    {
     "data": {
      "text/html": [
       "<div>\n",
       "<style scoped>\n",
       "    .dataframe tbody tr th:only-of-type {\n",
       "        vertical-align: middle;\n",
       "    }\n",
       "\n",
       "    .dataframe tbody tr th {\n",
       "        vertical-align: top;\n",
       "    }\n",
       "\n",
       "    .dataframe thead th {\n",
       "        text-align: right;\n",
       "    }\n",
       "</style>\n",
       "<table border=\"1\" class=\"dataframe\">\n",
       "  <thead>\n",
       "    <tr style=\"text-align: right;\">\n",
       "      <th></th>\n",
       "      <th>imodulon</th>\n",
       "      <th>kegg_id</th>\n",
       "      <th>pvalue</th>\n",
       "      <th>qvalue</th>\n",
       "      <th>precision</th>\n",
       "      <th>recall</th>\n",
       "      <th>f1score</th>\n",
       "      <th>TP</th>\n",
       "      <th>target_set_size</th>\n",
       "      <th>imodulon_size</th>\n",
       "    </tr>\n",
       "  </thead>\n",
       "  <tbody>\n",
       "    <tr>\n",
       "      <th>0</th>\n",
       "      <td>PSPTO_RS01865</td>\n",
       "      <td>M00232</td>\n",
       "      <td>6.335303e-07</td>\n",
       "      <td>0.000143</td>\n",
       "      <td>0.750000</td>\n",
       "      <td>0.090909</td>\n",
       "      <td>0.162162</td>\n",
       "      <td>3.0</td>\n",
       "      <td>4.0</td>\n",
       "      <td>33.0</td>\n",
       "    </tr>\n",
       "    <tr>\n",
       "      <th>1</th>\n",
       "      <td>PSPTO_RS01865</td>\n",
       "      <td>M00236</td>\n",
       "      <td>9.847753e-07</td>\n",
       "      <td>0.000143</td>\n",
       "      <td>0.147059</td>\n",
       "      <td>0.151515</td>\n",
       "      <td>0.149254</td>\n",
       "      <td>5.0</td>\n",
       "      <td>34.0</td>\n",
       "      <td>33.0</td>\n",
       "    </tr>\n",
       "    <tr>\n",
       "      <th>2</th>\n",
       "      <td>PSPTO_RS01865</td>\n",
       "      <td>M00188</td>\n",
       "      <td>1.857555e-05</td>\n",
       "      <td>0.001802</td>\n",
       "      <td>0.300000</td>\n",
       "      <td>0.090909</td>\n",
       "      <td>0.139535</td>\n",
       "      <td>3.0</td>\n",
       "      <td>10.0</td>\n",
       "      <td>33.0</td>\n",
       "    </tr>\n",
       "    <tr>\n",
       "      <th>3</th>\n",
       "      <td>PSPTO_RS01865</td>\n",
       "      <td>M00497</td>\n",
       "      <td>3.027963e-05</td>\n",
       "      <td>0.002203</td>\n",
       "      <td>1.000000</td>\n",
       "      <td>0.060606</td>\n",
       "      <td>0.114286</td>\n",
       "      <td>2.0</td>\n",
       "      <td>2.0</td>\n",
       "      <td>33.0</td>\n",
       "    </tr>\n",
       "    <tr>\n",
       "      <th>4</th>\n",
       "      <td>PSPTO_RS01865</td>\n",
       "      <td>M00323</td>\n",
       "      <td>6.910162e-05</td>\n",
       "      <td>0.004022</td>\n",
       "      <td>0.200000</td>\n",
       "      <td>0.090909</td>\n",
       "      <td>0.125000</td>\n",
       "      <td>3.0</td>\n",
       "      <td>15.0</td>\n",
       "      <td>33.0</td>\n",
       "    </tr>\n",
       "  </tbody>\n",
       "</table>\n",
       "</div>"
      ],
      "text/plain": [
       "        imodulon kegg_id        pvalue    qvalue  precision    recall  \\\n",
       "0  PSPTO_RS01865  M00232  6.335303e-07  0.000143   0.750000  0.090909   \n",
       "1  PSPTO_RS01865  M00236  9.847753e-07  0.000143   0.147059  0.151515   \n",
       "2  PSPTO_RS01865  M00188  1.857555e-05  0.001802   0.300000  0.090909   \n",
       "3  PSPTO_RS01865  M00497  3.027963e-05  0.002203   1.000000  0.060606   \n",
       "4  PSPTO_RS01865  M00323  6.910162e-05  0.004022   0.200000  0.090909   \n",
       "\n",
       "    f1score   TP  target_set_size  imodulon_size  \n",
       "0  0.162162  3.0              4.0           33.0  \n",
       "1  0.149254  5.0             34.0           33.0  \n",
       "2  0.139535  3.0             10.0           33.0  \n",
       "3  0.114286  2.0              2.0           33.0  \n",
       "4  0.125000  3.0             15.0           33.0  "
      ]
     },
     "execution_count": 19,
     "metadata": {},
     "output_type": "execute_result"
    }
   ],
   "source": [
    "DF_module_enrich.head()"
   ]
  },
  {
   "cell_type": "markdown",
   "metadata": {},
   "source": [
    "### Convert KEGG IDs to human-readable names"
   ]
  },
  {
   "cell_type": "code",
   "execution_count": 20,
   "metadata": {},
   "outputs": [
    {
     "data": {
      "application/vnd.jupyter.widget-view+json": {
       "model_id": "95b2b5c2a96d4186a09ad6965f115394",
       "version_major": 2,
       "version_minor": 0
      },
      "text/plain": [
       "HBox(children=(HTML(value=''), FloatProgress(value=0.0, max=49.0), HTML(value='')))"
      ]
     },
     "metadata": {},
     "output_type": "display_data"
    },
    {
     "name": "stdout",
     "output_type": "stream",
     "text": [
      "\n"
     ]
    },
    {
     "data": {
      "application/vnd.jupyter.widget-view+json": {
       "model_id": "4a6dbddffd8b44888596e08b20f4a7bd",
       "version_major": 2,
       "version_minor": 0
      },
      "text/plain": [
       "HBox(children=(HTML(value=''), FloatProgress(value=0.0, max=47.0), HTML(value='')))"
      ]
     },
     "metadata": {},
     "output_type": "display_data"
    },
    {
     "name": "stdout",
     "output_type": "stream",
     "text": [
      "\n"
     ]
    }
   ],
   "source": [
    "for idx,key in tqdm(DF_pathway_enrich.kegg_id.items(),total=len(DF_pathway_enrich)):\n",
    "    text = REST.kegg_find('pathway',key).read()\n",
    "    try:\n",
    "        name = re.search('\\t(.*)\\n',text).group(1)\n",
    "        DF_pathway_enrich.loc[idx,'pathway_name'] = name\n",
    "    except AttributeError:\n",
    "        DF_pathway_enrich.loc[idx,'pathway_name'] = None\n",
    "    \n",
    "for idx,key in tqdm(DF_module_enrich.kegg_id.items(),total=len(DF_module_enrich)):\n",
    "    text = REST.kegg_find('module',key).read()\n",
    "    try:\n",
    "        name = re.search('\\t(.*)\\n',text).group(1)\n",
    "        DF_module_enrich.loc[idx,'module_name'] = name\n",
    "    except AttributeError:\n",
    "        DF_module_enrich.loc[idx,'module_name'] = None"
   ]
  },
  {
   "cell_type": "code",
   "execution_count": 21,
   "metadata": {},
   "outputs": [
    {
     "data": {
      "text/html": [
       "<div>\n",
       "<style scoped>\n",
       "    .dataframe tbody tr th:only-of-type {\n",
       "        vertical-align: middle;\n",
       "    }\n",
       "\n",
       "    .dataframe tbody tr th {\n",
       "        vertical-align: top;\n",
       "    }\n",
       "\n",
       "    .dataframe thead th {\n",
       "        text-align: right;\n",
       "    }\n",
       "</style>\n",
       "<table border=\"1\" class=\"dataframe\">\n",
       "  <thead>\n",
       "    <tr style=\"text-align: right;\">\n",
       "      <th></th>\n",
       "      <th>imodulon</th>\n",
       "      <th>kegg_id</th>\n",
       "      <th>pvalue</th>\n",
       "      <th>qvalue</th>\n",
       "      <th>precision</th>\n",
       "      <th>recall</th>\n",
       "      <th>f1score</th>\n",
       "      <th>TP</th>\n",
       "      <th>target_set_size</th>\n",
       "      <th>imodulon_size</th>\n",
       "      <th>pathway_name</th>\n",
       "    </tr>\n",
       "  </thead>\n",
       "  <tbody>\n",
       "    <tr>\n",
       "      <th>0</th>\n",
       "      <td>PSPTO_RS01865</td>\n",
       "      <td>map00240</td>\n",
       "      <td>1.810879e-04</td>\n",
       "      <td>2.477211e-02</td>\n",
       "      <td>0.076923</td>\n",
       "      <td>0.121212</td>\n",
       "      <td>0.094118</td>\n",
       "      <td>4.0</td>\n",
       "      <td>52.0</td>\n",
       "      <td>33.0</td>\n",
       "      <td>Pyrimidine metabolism</td>\n",
       "    </tr>\n",
       "    <tr>\n",
       "      <th>1</th>\n",
       "      <td>PSPTO_RS01865</td>\n",
       "      <td>map02010</td>\n",
       "      <td>2.108265e-04</td>\n",
       "      <td>2.477211e-02</td>\n",
       "      <td>0.030702</td>\n",
       "      <td>0.212121</td>\n",
       "      <td>0.053640</td>\n",
       "      <td>7.0</td>\n",
       "      <td>228.0</td>\n",
       "      <td>33.0</td>\n",
       "      <td>ABC transporters</td>\n",
       "    </tr>\n",
       "    <tr>\n",
       "      <th>2</th>\n",
       "      <td>2</td>\n",
       "      <td>map02030</td>\n",
       "      <td>6.483780e-47</td>\n",
       "      <td>1.523688e-44</td>\n",
       "      <td>0.506849</td>\n",
       "      <td>0.336364</td>\n",
       "      <td>0.404372</td>\n",
       "      <td>37.0</td>\n",
       "      <td>73.0</td>\n",
       "      <td>110.0</td>\n",
       "      <td>Bacterial chemotaxis</td>\n",
       "    </tr>\n",
       "    <tr>\n",
       "      <th>3</th>\n",
       "      <td>2</td>\n",
       "      <td>map02020</td>\n",
       "      <td>3.340546e-32</td>\n",
       "      <td>3.925142e-30</td>\n",
       "      <td>0.213115</td>\n",
       "      <td>0.354545</td>\n",
       "      <td>0.266212</td>\n",
       "      <td>39.0</td>\n",
       "      <td>183.0</td>\n",
       "      <td>110.0</td>\n",
       "      <td>Two-component system</td>\n",
       "    </tr>\n",
       "    <tr>\n",
       "      <th>4</th>\n",
       "      <td>2</td>\n",
       "      <td>map02040</td>\n",
       "      <td>2.014606e-08</td>\n",
       "      <td>1.578108e-06</td>\n",
       "      <td>0.236842</td>\n",
       "      <td>0.081818</td>\n",
       "      <td>0.121622</td>\n",
       "      <td>9.0</td>\n",
       "      <td>38.0</td>\n",
       "      <td>110.0</td>\n",
       "      <td>Flagellar assembly</td>\n",
       "    </tr>\n",
       "  </tbody>\n",
       "</table>\n",
       "</div>"
      ],
      "text/plain": [
       "        imodulon   kegg_id        pvalue        qvalue  precision    recall  \\\n",
       "0  PSPTO_RS01865  map00240  1.810879e-04  2.477211e-02   0.076923  0.121212   \n",
       "1  PSPTO_RS01865  map02010  2.108265e-04  2.477211e-02   0.030702  0.212121   \n",
       "2              2  map02030  6.483780e-47  1.523688e-44   0.506849  0.336364   \n",
       "3              2  map02020  3.340546e-32  3.925142e-30   0.213115  0.354545   \n",
       "4              2  map02040  2.014606e-08  1.578108e-06   0.236842  0.081818   \n",
       "\n",
       "    f1score    TP  target_set_size  imodulon_size           pathway_name  \n",
       "0  0.094118   4.0             52.0           33.0  Pyrimidine metabolism  \n",
       "1  0.053640   7.0            228.0           33.0       ABC transporters  \n",
       "2  0.404372  37.0             73.0          110.0   Bacterial chemotaxis  \n",
       "3  0.266212  39.0            183.0          110.0   Two-component system  \n",
       "4  0.121622   9.0             38.0          110.0     Flagellar assembly  "
      ]
     },
     "execution_count": 21,
     "metadata": {},
     "output_type": "execute_result"
    }
   ],
   "source": [
    "DF_pathway_enrich.head()"
   ]
  },
  {
   "cell_type": "code",
   "execution_count": 22,
   "metadata": {},
   "outputs": [
    {
     "data": {
      "text/html": [
       "<div>\n",
       "<style scoped>\n",
       "    .dataframe tbody tr th:only-of-type {\n",
       "        vertical-align: middle;\n",
       "    }\n",
       "\n",
       "    .dataframe tbody tr th {\n",
       "        vertical-align: top;\n",
       "    }\n",
       "\n",
       "    .dataframe thead th {\n",
       "        text-align: right;\n",
       "    }\n",
       "</style>\n",
       "<table border=\"1\" class=\"dataframe\">\n",
       "  <thead>\n",
       "    <tr style=\"text-align: right;\">\n",
       "      <th></th>\n",
       "      <th>imodulon</th>\n",
       "      <th>kegg_id</th>\n",
       "      <th>pvalue</th>\n",
       "      <th>qvalue</th>\n",
       "      <th>precision</th>\n",
       "      <th>recall</th>\n",
       "      <th>f1score</th>\n",
       "      <th>TP</th>\n",
       "      <th>target_set_size</th>\n",
       "      <th>imodulon_size</th>\n",
       "      <th>module_name</th>\n",
       "    </tr>\n",
       "  </thead>\n",
       "  <tbody>\n",
       "    <tr>\n",
       "      <th>0</th>\n",
       "      <td>PSPTO_RS01865</td>\n",
       "      <td>M00232</td>\n",
       "      <td>6.335303e-07</td>\n",
       "      <td>0.000143</td>\n",
       "      <td>0.750000</td>\n",
       "      <td>0.090909</td>\n",
       "      <td>0.162162</td>\n",
       "      <td>3.0</td>\n",
       "      <td>4.0</td>\n",
       "      <td>33.0</td>\n",
       "      <td>NaN</td>\n",
       "    </tr>\n",
       "    <tr>\n",
       "      <th>1</th>\n",
       "      <td>PSPTO_RS01865</td>\n",
       "      <td>M00236</td>\n",
       "      <td>9.847753e-07</td>\n",
       "      <td>0.000143</td>\n",
       "      <td>0.147059</td>\n",
       "      <td>0.151515</td>\n",
       "      <td>0.149254</td>\n",
       "      <td>5.0</td>\n",
       "      <td>34.0</td>\n",
       "      <td>33.0</td>\n",
       "      <td>NaN</td>\n",
       "    </tr>\n",
       "    <tr>\n",
       "      <th>2</th>\n",
       "      <td>PSPTO_RS01865</td>\n",
       "      <td>M00188</td>\n",
       "      <td>1.857555e-05</td>\n",
       "      <td>0.001802</td>\n",
       "      <td>0.300000</td>\n",
       "      <td>0.090909</td>\n",
       "      <td>0.139535</td>\n",
       "      <td>3.0</td>\n",
       "      <td>10.0</td>\n",
       "      <td>33.0</td>\n",
       "      <td>NaN</td>\n",
       "    </tr>\n",
       "    <tr>\n",
       "      <th>3</th>\n",
       "      <td>PSPTO_RS01865</td>\n",
       "      <td>M00497</td>\n",
       "      <td>3.027963e-05</td>\n",
       "      <td>0.002203</td>\n",
       "      <td>1.000000</td>\n",
       "      <td>0.060606</td>\n",
       "      <td>0.114286</td>\n",
       "      <td>2.0</td>\n",
       "      <td>2.0</td>\n",
       "      <td>33.0</td>\n",
       "      <td>NaN</td>\n",
       "    </tr>\n",
       "    <tr>\n",
       "      <th>4</th>\n",
       "      <td>PSPTO_RS01865</td>\n",
       "      <td>M00323</td>\n",
       "      <td>6.910162e-05</td>\n",
       "      <td>0.004022</td>\n",
       "      <td>0.200000</td>\n",
       "      <td>0.090909</td>\n",
       "      <td>0.125000</td>\n",
       "      <td>3.0</td>\n",
       "      <td>15.0</td>\n",
       "      <td>33.0</td>\n",
       "      <td>NaN</td>\n",
       "    </tr>\n",
       "  </tbody>\n",
       "</table>\n",
       "</div>"
      ],
      "text/plain": [
       "        imodulon kegg_id        pvalue    qvalue  precision    recall  \\\n",
       "0  PSPTO_RS01865  M00232  6.335303e-07  0.000143   0.750000  0.090909   \n",
       "1  PSPTO_RS01865  M00236  9.847753e-07  0.000143   0.147059  0.151515   \n",
       "2  PSPTO_RS01865  M00188  1.857555e-05  0.001802   0.300000  0.090909   \n",
       "3  PSPTO_RS01865  M00497  3.027963e-05  0.002203   1.000000  0.060606   \n",
       "4  PSPTO_RS01865  M00323  6.910162e-05  0.004022   0.200000  0.090909   \n",
       "\n",
       "    f1score   TP  target_set_size  imodulon_size module_name  \n",
       "0  0.162162  3.0              4.0           33.0         NaN  \n",
       "1  0.149254  5.0             34.0           33.0         NaN  \n",
       "2  0.139535  3.0             10.0           33.0         NaN  \n",
       "3  0.114286  2.0              2.0           33.0         NaN  \n",
       "4  0.125000  3.0             15.0           33.0         NaN  "
      ]
     },
     "execution_count": 22,
     "metadata": {},
     "output_type": "execute_result"
    }
   ],
   "source": [
    "DF_module_enrich.head()"
   ]
  },
  {
   "cell_type": "markdown",
   "metadata": {},
   "source": [
    "### Save files"
   ]
  },
  {
   "cell_type": "code",
   "execution_count": 23,
   "metadata": {},
   "outputs": [],
   "source": [
    "DF_pathway_enrich.to_csv(path.join(data_dir,'kegg_pathway_enrichments.csv'))\n",
    "DF_pathway_enrich.to_csv(path.join(data_dir,'kegg_module_enrichments.csv'))"
   ]
  },
  {
   "cell_type": "markdown",
   "metadata": {},
   "source": [
    "# Check for single gene iModulons"
   ]
  },
  {
   "cell_type": "code",
   "execution_count": 24,
   "metadata": {},
   "outputs": [],
   "source": [
    "sg_imods = ica_data.find_single_gene_imodulons(save=True)"
   ]
  },
  {
   "cell_type": "code",
   "execution_count": 25,
   "metadata": {},
   "outputs": [],
   "source": [
    "for i,mod in enumerate(sg_imods):\n",
    "    ica_data.rename_imodulons({mod:'single_gene_'+str(i+1)})"
   ]
  },
  {
   "cell_type": "code",
   "execution_count": 26,
   "metadata": {},
   "outputs": [
    {
     "data": {
      "text/plain": [
       "['PSPTO_RS01865', 1, 2, 3, 4]"
      ]
     },
     "execution_count": 26,
     "metadata": {},
     "output_type": "execute_result"
    }
   ],
   "source": [
    "ica_data.imodulon_names[:5]"
   ]
  },
  {
   "cell_type": "markdown",
   "metadata": {},
   "source": [
    "# Compare against published iModulons\n",
    "We can use the `compare_ica` function to compare iModulons across different organisms. To do so, you must provide the path to a Bidirection Best Hist CSV between your two organisms of interest.\n",
    "\n",
    "A Github repository containing many BBH CSV's can be found at the following\n",
    "link: https://github.com/SBRG/modulome_compare_data/tree/master/bbh_csv\n",
    "\n",
    "You can also provide a path to your own BBH file, as long as it contains the\n",
    "columns \"**gene**\" and \"**target**\"\n",
    "\n",
    "See the `Tutorial.ipynb` notebook for more information"
   ]
  },
  {
   "cell_type": "code",
   "execution_count": 28,
   "metadata": {},
   "outputs": [],
   "source": [
    "from pymodulon.compare import *\n",
    "from pymodulon.io import *"
   ]
  },
  {
   "cell_type": "code",
   "execution_count": 34,
   "metadata": {},
   "outputs": [],
   "source": [
    "ecoli_data = load_json_model('../example_data/example.json')"
   ]
  },
  {
   "cell_type": "code",
   "execution_count": 35,
   "metadata": {},
   "outputs": [
    {
     "name": "stderr",
     "output_type": "stream",
     "text": [
      "/home/anand/PycharmProjects/pymodulon/pymodulon/compare.py:203: UserWarning: Please ensure that the order of S1 and S2 match the order of the BBH CSV file\n",
      "  warnings.warn(\"Please ensure that the order of S1 and S2 match the \"\n",
      "100%|██████████| 92/92 [00:00<00:00, 292.61it/s]\n"
     ]
    },
    {
     "data": {
      "image/svg+xml": [
       "<?xml version=\"1.0\" encoding=\"UTF-8\" standalone=\"no\"?>\n",
       "<!DOCTYPE svg PUBLIC \"-//W3C//DTD SVG 1.1//EN\"\n",
       " \"http://www.w3.org/Graphics/SVG/1.1/DTD/svg11.dtd\">\n",
       "<!-- Generated by graphviz version 2.40.1 (20161225.0304)\n",
       " -->\n",
       "<!-- Title: %3 Pages: 1 -->\n",
       "<svg width=\"215pt\" height=\"204pt\"\n",
       " viewBox=\"0.00 0.00 214.50 204.00\" xmlns=\"http://www.w3.org/2000/svg\" xmlns:xlink=\"http://www.w3.org/1999/xlink\">\n",
       "<g id=\"graph0\" class=\"graph\" transform=\"scale(1 1) rotate(0) translate(4 200)\">\n",
       "<title>%3</title>\n",
       "<polygon fill=\"#ffffff\" stroke=\"transparent\" points=\"-4,4 -4,-200 210.5,-200 210.5,4 -4,4\"/>\n",
       "<!-- data2_1 -->\n",
       "<g id=\"node1\" class=\"node\">\n",
       "<title>data2_1</title>\n",
       "<text text-anchor=\"middle\" x=\"29.5\" y=\"-116.3\" font-family=\"Helvetica,sans-Serif\" font-size=\"14.00\" fill=\"#000000\">1</text>\n",
       "</g>\n",
       "<!-- data2_23 -->\n",
       "<g id=\"node2\" class=\"node\">\n",
       "<title>data2_23</title>\n",
       "<text text-anchor=\"middle\" x=\"105.5\" y=\"-116.3\" font-family=\"Helvetica,sans-Serif\" font-size=\"14.00\" fill=\"#000000\">23</text>\n",
       "</g>\n",
       "<!-- data2_25 -->\n",
       "<g id=\"node3\" class=\"node\">\n",
       "<title>data2_25</title>\n",
       "<text text-anchor=\"middle\" x=\"179.5\" y=\"-116.3\" font-family=\"Helvetica,sans-Serif\" font-size=\"14.00\" fill=\"#000000\">25</text>\n",
       "</g>\n",
       "<!-- data2_29 -->\n",
       "<g id=\"node4\" class=\"node\">\n",
       "<title>data2_29</title>\n",
       "<text text-anchor=\"middle\" x=\"29.5\" y=\"-14.3\" font-family=\"Helvetica,sans-Serif\" font-size=\"14.00\" fill=\"#000000\">29</text>\n",
       "</g>\n",
       "<!-- data2_FadR -->\n",
       "<g id=\"node5\" class=\"node\">\n",
       "<title>data2_FadR</title>\n",
       "<text text-anchor=\"middle\" x=\"105.5\" y=\"-14.3\" font-family=\"Helvetica,sans-Serif\" font-size=\"14.00\" fill=\"#000000\">FadR</text>\n",
       "</g>\n",
       "<!-- data1_GlpR -->\n",
       "<g id=\"node6\" class=\"node\">\n",
       "<title>data1_GlpR</title>\n",
       "<text text-anchor=\"middle\" x=\"105.5\" y=\"-174.3\" font-family=\"Helvetica,sans-Serif\" font-size=\"14.00\" fill=\"#000000\">GlpR</text>\n",
       "</g>\n",
       "<!-- data1_GlpR&#45;&gt;data2_23 -->\n",
       "<g id=\"edge1\" class=\"edge\">\n",
       "<title>data1_GlpR&#45;&gt;data2_23</title>\n",
       "<path fill=\"none\" stroke=\"#000000\" stroke-width=\"1.68\" d=\"M105.5,-159.9664C105.5,-154.6707 105.5,-148.8028 105.5,-143.231\"/>\n",
       "<polygon fill=\"#000000\" stroke=\"#000000\" stroke-width=\"1.68\" points=\"107.2501,-143.2222 105.5,-138.2222 103.7501,-143.2223 107.2501,-143.2222\"/>\n",
       "</g>\n",
       "<!-- data1_PurR&#45;1 -->\n",
       "<g id=\"node7\" class=\"node\">\n",
       "<title>data1_PurR&#45;1</title>\n",
       "<text text-anchor=\"middle\" x=\"29.5\" y=\"-72.3\" font-family=\"Helvetica,sans-Serif\" font-size=\"14.00\" fill=\"#000000\">PurR&#45;1</text>\n",
       "</g>\n",
       "<!-- data1_PurR&#45;1&#45;&gt;data2_29 -->\n",
       "<g id=\"edge2\" class=\"edge\">\n",
       "<title>data1_PurR&#45;1&#45;&gt;data2_29</title>\n",
       "<path fill=\"none\" stroke=\"#000000\" stroke-width=\"3.18\" d=\"M29.5,-57.9664C29.5,-52.6707 29.5,-46.8028 29.5,-41.231\"/>\n",
       "<polygon fill=\"#000000\" stroke=\"#000000\" stroke-width=\"3.18\" points=\"31.2501,-41.2222 29.5,-36.2222 27.7501,-41.2223 31.2501,-41.2222\"/>\n",
       "</g>\n",
       "<!-- data1_CysB -->\n",
       "<g id=\"node8\" class=\"node\">\n",
       "<title>data1_CysB</title>\n",
       "<text text-anchor=\"middle\" x=\"29.5\" y=\"-174.3\" font-family=\"Helvetica,sans-Serif\" font-size=\"14.00\" fill=\"#000000\">CysB</text>\n",
       "</g>\n",
       "<!-- data1_CysB&#45;&gt;data2_1 -->\n",
       "<g id=\"edge3\" class=\"edge\">\n",
       "<title>data1_CysB&#45;&gt;data2_1</title>\n",
       "<path fill=\"none\" stroke=\"#000000\" stroke-width=\"3.05\" d=\"M29.5,-159.9664C29.5,-154.6707 29.5,-148.8028 29.5,-143.231\"/>\n",
       "<polygon fill=\"#000000\" stroke=\"#000000\" stroke-width=\"3.05\" points=\"31.2501,-143.2222 29.5,-138.2222 27.7501,-143.2223 31.2501,-143.2222\"/>\n",
       "</g>\n",
       "<!-- data1_Fur&#45;2 -->\n",
       "<g id=\"node9\" class=\"node\">\n",
       "<title>data1_Fur&#45;2</title>\n",
       "<text text-anchor=\"middle\" x=\"179.5\" y=\"-174.3\" font-family=\"Helvetica,sans-Serif\" font-size=\"14.00\" fill=\"#000000\">Fur&#45;2</text>\n",
       "</g>\n",
       "<!-- data1_Fur&#45;2&#45;&gt;data2_25 -->\n",
       "<g id=\"edge4\" class=\"edge\">\n",
       "<title>data1_Fur&#45;2&#45;&gt;data2_25</title>\n",
       "<path fill=\"none\" stroke=\"#000000\" stroke-width=\"2.01\" d=\"M179.5,-159.9664C179.5,-154.6707 179.5,-148.8028 179.5,-143.231\"/>\n",
       "<polygon fill=\"#000000\" stroke=\"#000000\" stroke-width=\"2.01\" points=\"181.2501,-143.2222 179.5,-138.2222 177.7501,-143.2223 181.2501,-143.2222\"/>\n",
       "</g>\n",
       "<!-- data1_FadR/IclR -->\n",
       "<g id=\"node10\" class=\"node\">\n",
       "<title>data1_FadR/IclR</title>\n",
       "<text text-anchor=\"middle\" x=\"105.5\" y=\"-72.3\" font-family=\"Helvetica,sans-Serif\" font-size=\"14.00\" fill=\"#000000\">FadR/IclR</text>\n",
       "</g>\n",
       "<!-- data1_FadR/IclR&#45;&gt;data2_FadR -->\n",
       "<g id=\"edge5\" class=\"edge\">\n",
       "<title>data1_FadR/IclR&#45;&gt;data2_FadR</title>\n",
       "<path fill=\"none\" stroke=\"#000000\" stroke-width=\"1.99\" d=\"M105.5,-57.9664C105.5,-52.6707 105.5,-46.8028 105.5,-41.231\"/>\n",
       "<polygon fill=\"#000000\" stroke=\"#000000\" stroke-width=\"1.99\" points=\"107.2501,-41.2222 105.5,-36.2222 103.7501,-41.2223 107.2501,-41.2222\"/>\n",
       "</g>\n",
       "</g>\n",
       "</svg>\n"
      ],
      "text/plain": [
       "<graphviz.dot.Digraph at 0x7f52e49fee20>"
      ]
     },
     "execution_count": 35,
     "metadata": {},
     "output_type": "execute_result"
    }
   ],
   "source": [
    "dots,links = compare_ica(ecoli_data.M, ica_data.M, cutoff=0.3,\n",
    "                         ortho_file = '../example_data/example_bbh.csv')\n",
    "dots"
   ]
  },
  {
   "cell_type": "markdown",
   "metadata": {},
   "source": [
    "In the above plot, the top named iModulons are from *E. coli* and the bottom iModulons are from our target organism. Note that the two FadR iModulons are linked together. This `links` variable contains all pairs of iModulons that are linked together"
   ]
  },
  {
   "cell_type": "code",
   "execution_count": 36,
   "metadata": {},
   "outputs": [
    {
     "data": {
      "text/plain": [
       "[('GlpR', 23),\n",
       " ('PurR-1', 29),\n",
       " ('CysB', 1),\n",
       " ('Fur-2', 25),\n",
       " ('FadR/IclR', 'FadR')]"
      ]
     },
     "execution_count": 36,
     "metadata": {},
     "output_type": "execute_result"
    }
   ],
   "source": [
    "links"
   ]
  },
  {
   "cell_type": "code",
   "execution_count": 37,
   "metadata": {},
   "outputs": [
    {
     "data": {
      "text/html": [
       "<div>\n",
       "<style scoped>\n",
       "    .dataframe tbody tr th:only-of-type {\n",
       "        vertical-align: middle;\n",
       "    }\n",
       "\n",
       "    .dataframe tbody tr th {\n",
       "        vertical-align: top;\n",
       "    }\n",
       "\n",
       "    .dataframe thead th {\n",
       "        text-align: right;\n",
       "    }\n",
       "</style>\n",
       "<table border=\"1\" class=\"dataframe\">\n",
       "  <thead>\n",
       "    <tr style=\"text-align: right;\">\n",
       "      <th></th>\n",
       "      <th>regulator</th>\n",
       "      <th>pvalue</th>\n",
       "      <th>qvalue</th>\n",
       "      <th>precision</th>\n",
       "      <th>recall</th>\n",
       "      <th>f1score</th>\n",
       "      <th>TP</th>\n",
       "      <th>regulon_size</th>\n",
       "      <th>imodulon_size</th>\n",
       "      <th>n_regs</th>\n",
       "      <th>single_gene</th>\n",
       "      <th>ecoli_ortholog</th>\n",
       "    </tr>\n",
       "  </thead>\n",
       "  <tbody>\n",
       "    <tr>\n",
       "      <th>0</th>\n",
       "      <td>NaN</td>\n",
       "      <td>NaN</td>\n",
       "      <td>NaN</td>\n",
       "      <td>NaN</td>\n",
       "      <td>NaN</td>\n",
       "      <td>NaN</td>\n",
       "      <td>NaN</td>\n",
       "      <td>NaN</td>\n",
       "      <td>NaN</td>\n",
       "      <td>NaN</td>\n",
       "      <td>NaN</td>\n",
       "      <td>NaN</td>\n",
       "    </tr>\n",
       "    <tr>\n",
       "      <th>1</th>\n",
       "      <td>NaN</td>\n",
       "      <td>NaN</td>\n",
       "      <td>NaN</td>\n",
       "      <td>NaN</td>\n",
       "      <td>NaN</td>\n",
       "      <td>NaN</td>\n",
       "      <td>NaN</td>\n",
       "      <td>NaN</td>\n",
       "      <td>NaN</td>\n",
       "      <td>NaN</td>\n",
       "      <td>NaN</td>\n",
       "      <td>CysB</td>\n",
       "    </tr>\n",
       "    <tr>\n",
       "      <th>2</th>\n",
       "      <td>NaN</td>\n",
       "      <td>NaN</td>\n",
       "      <td>NaN</td>\n",
       "      <td>NaN</td>\n",
       "      <td>NaN</td>\n",
       "      <td>NaN</td>\n",
       "      <td>NaN</td>\n",
       "      <td>NaN</td>\n",
       "      <td>NaN</td>\n",
       "      <td>NaN</td>\n",
       "      <td>NaN</td>\n",
       "      <td>NaN</td>\n",
       "    </tr>\n",
       "    <tr>\n",
       "      <th>single_gene_1</th>\n",
       "      <td>NaN</td>\n",
       "      <td>NaN</td>\n",
       "      <td>NaN</td>\n",
       "      <td>NaN</td>\n",
       "      <td>NaN</td>\n",
       "      <td>NaN</td>\n",
       "      <td>NaN</td>\n",
       "      <td>NaN</td>\n",
       "      <td>NaN</td>\n",
       "      <td>NaN</td>\n",
       "      <td>True</td>\n",
       "      <td>NaN</td>\n",
       "    </tr>\n",
       "    <tr>\n",
       "      <th>ArnRAB</th>\n",
       "      <td>ArnR;ArnR1+ArnA;ArnB</td>\n",
       "      <td>1.209743e-19</td>\n",
       "      <td>3.662526e-19</td>\n",
       "      <td>1.0</td>\n",
       "      <td>0.875</td>\n",
       "      <td>0.933333</td>\n",
       "      <td>7.0</td>\n",
       "      <td>7.0</td>\n",
       "      <td>8.0</td>\n",
       "      <td>2.0</td>\n",
       "      <td>NaN</td>\n",
       "      <td>NaN</td>\n",
       "    </tr>\n",
       "  </tbody>\n",
       "</table>\n",
       "</div>"
      ],
      "text/plain": [
       "                          regulator        pvalue        qvalue  precision  \\\n",
       "0                               NaN           NaN           NaN        NaN   \n",
       "1                               NaN           NaN           NaN        NaN   \n",
       "2                               NaN           NaN           NaN        NaN   \n",
       "single_gene_1                   NaN           NaN           NaN        NaN   \n",
       "ArnRAB         ArnR;ArnR1+ArnA;ArnB  1.209743e-19  3.662526e-19        1.0   \n",
       "\n",
       "               recall   f1score   TP  regulon_size  imodulon_size  n_regs  \\\n",
       "0                 NaN       NaN  NaN           NaN            NaN     NaN   \n",
       "1                 NaN       NaN  NaN           NaN            NaN     NaN   \n",
       "2                 NaN       NaN  NaN           NaN            NaN     NaN   \n",
       "single_gene_1     NaN       NaN  NaN           NaN            NaN     NaN   \n",
       "ArnRAB          0.875  0.933333  7.0           7.0            8.0     2.0   \n",
       "\n",
       "              single_gene ecoli_ortholog  \n",
       "0                     NaN            NaN  \n",
       "1                     NaN           CysB  \n",
       "2                     NaN            NaN  \n",
       "single_gene_1        True            NaN  \n",
       "ArnRAB                NaN            NaN  "
      ]
     },
     "execution_count": 37,
     "metadata": {},
     "output_type": "execute_result"
    }
   ],
   "source": [
    "for ecoli_mod,target_mod in links:\n",
    "    ica_data.imodulon_table.loc[target_mod,'ecoli_ortholog'] = ecoli_mod\n",
    "ica_data.imodulon_table.head()"
   ]
  },
  {
   "cell_type": "markdown",
   "metadata": {},
   "source": [
    "# Save iModulon object"
   ]
  },
  {
   "cell_type": "markdown",
   "metadata": {},
   "source": [
    "This will save your iModulon table, your thresholds, and any other information stored in the ica_data object."
   ]
  },
  {
   "cell_type": "code",
   "execution_count": 29,
   "metadata": {},
   "outputs": [],
   "source": [
    "save_to_json(ica_data,'../data/p_syringae.json')"
   ]
  },
  {
   "cell_type": "markdown",
   "metadata": {},
   "source": [
    "If you prefer to view and edit your iModulon table in excel, save it as a CSV and reload the iModulon as before"
   ]
  },
  {
   "cell_type": "code",
   "execution_count": 30,
   "metadata": {},
   "outputs": [],
   "source": [
    "ica_data.imodulon_table.to_csv('../data/iModulon_table.csv')"
   ]
  },
  {
   "cell_type": "markdown",
   "metadata": {},
   "source": [
    "# Coming soon"
   ]
  },
  {
   "cell_type": "markdown",
   "metadata": {},
   "source": [
    "1. Saving GO/KEGG enrichments to iModulon table\n",
    "1. Plotting iModulon gene weights across organisms\n",
    "1. Using iModulon activities to characterize iModulons\n",
    "1. Finding motifs using MEME\n",
    "1. Building iModulonDB web pages\n"
   ]
  },
  {
   "cell_type": "code",
   "execution_count": null,
   "metadata": {},
   "outputs": [],
   "source": []
  }
 ],
 "metadata": {
  "kernelspec": {
   "display_name": "Python 3",
   "language": "python",
   "name": "python3"
  },
  "language_info": {
   "codemirror_mode": {
    "name": "ipython",
    "version": 3
   },
   "file_extension": ".py",
   "mimetype": "text/x-python",
   "name": "python",
   "nbconvert_exporter": "python",
   "pygments_lexer": "ipython3",
   "version": "3.8.5"
  },
  "toc": {
   "base_numbering": 1,
   "nav_menu": {},
   "number_sections": true,
   "sideBar": true,
   "skip_h1_title": false,
   "title_cell": "Table of Contents",
   "title_sidebar": "Contents",
   "toc_cell": true,
   "toc_position": {},
   "toc_section_display": true,
   "toc_window_display": false
  }
 },
 "nbformat": 4,
 "nbformat_minor": 2
}
