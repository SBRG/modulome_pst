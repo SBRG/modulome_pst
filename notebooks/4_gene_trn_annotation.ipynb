{
 "cells": [
  {
   "cell_type": "markdown",
   "metadata": {
    "toc": true
   },
   "source": [
    "<h1>Table of Contents<span class=\"tocSkip\"></span></h1>\n",
    "<div class=\"toc\"><ul class=\"toc-item\"><li><span><a href=\"#Get-information-from-GFF-file\" data-toc-modified-id=\"Get-information-from-GFF-file-1\"><span class=\"toc-item-num\">1&nbsp;&nbsp;</span>Get information from GFF file</a></span><ul class=\"toc-item\"><li><span><a href=\"#Convert-GFF-to-Pandas-DataFrame\" data-toc-modified-id=\"Convert-GFF-to-Pandas-DataFrame-1.1\"><span class=\"toc-item-num\">1.1&nbsp;&nbsp;</span>Convert GFF to Pandas DataFrame</a></span></li></ul></li><li><span><a href=\"#KEGG-and-COGs\" data-toc-modified-id=\"KEGG-and-COGs-2\"><span class=\"toc-item-num\">2&nbsp;&nbsp;</span>KEGG and COGs</a></span><ul class=\"toc-item\"><li><span><a href=\"#Generate-nucleotide-fasta-files-for-CDS\" data-toc-modified-id=\"Generate-nucleotide-fasta-files-for-CDS-2.1\"><span class=\"toc-item-num\">2.1&nbsp;&nbsp;</span>Generate nucleotide fasta files for CDS</a></span></li><li><span><a href=\"#Run-EggNOG-Mapper\" data-toc-modified-id=\"Run-EggNOG-Mapper-2.2\"><span class=\"toc-item-num\">2.2&nbsp;&nbsp;</span>Run EggNOG Mapper</a></span></li><li><span><a href=\"#Get-KEGG-attributes\" data-toc-modified-id=\"Get-KEGG-attributes-2.3\"><span class=\"toc-item-num\">2.3&nbsp;&nbsp;</span>Get KEGG attributes</a></span></li><li><span><a href=\"#Save-KEGG-information\" data-toc-modified-id=\"Save-KEGG-information-2.4\"><span class=\"toc-item-num\">2.4&nbsp;&nbsp;</span>Save KEGG information</a></span></li><li><span><a href=\"#Save-COGs-to-annotation-dataframe\" data-toc-modified-id=\"Save-COGs-to-annotation-dataframe-2.5\"><span class=\"toc-item-num\">2.5&nbsp;&nbsp;</span>Save COGs to annotation dataframe</a></span></li></ul></li><li><span><a href=\"#Uniprot-ID-mapping\" data-toc-modified-id=\"Uniprot-ID-mapping-3\"><span class=\"toc-item-num\">3&nbsp;&nbsp;</span>Uniprot ID mapping</a></span></li><li><span><a href=\"#Clean-up-and-save-annotation\" data-toc-modified-id=\"Clean-up-and-save-annotation-4\"><span class=\"toc-item-num\">4&nbsp;&nbsp;</span>Clean up and save annotation</a></span><ul class=\"toc-item\"><li><span><a href=\"#Final-statistics\" data-toc-modified-id=\"Final-statistics-4.1\"><span class=\"toc-item-num\">4.1&nbsp;&nbsp;</span>Final statistics</a></span></li><li><span><a href=\"#Fill-missing-values\" data-toc-modified-id=\"Fill-missing-values-4.2\"><span class=\"toc-item-num\">4.2&nbsp;&nbsp;</span>Fill missing values</a></span></li></ul></li><li><span><a href=\"#GO-Annotations\" data-toc-modified-id=\"GO-Annotations-5\"><span class=\"toc-item-num\">5&nbsp;&nbsp;</span>GO Annotations</a></span></li></ul></div>"
   ]
  },
  {
   "cell_type": "code",
   "execution_count": 1,
   "metadata": {},
   "outputs": [],
   "source": [
    "import re\n",
    "import sys\n",
    "sys.path.append('..')"
   ]
  },
  {
   "cell_type": "code",
   "execution_count": 2,
   "metadata": {},
   "outputs": [],
   "source": [
    "from pymodulon.gene_util import *\n",
    "import os\n",
    "from Bio import SeqIO"
   ]
  },
  {
   "cell_type": "code",
   "execution_count": 3,
   "metadata": {},
   "outputs": [],
   "source": [
    "org_dir = '..'\n",
    "kegg_organism_code = 'pst'\n",
    "seq_dir = '../data/sequence_files'"
   ]
  },
  {
   "cell_type": "markdown",
   "metadata": {},
   "source": [
    "# Get information from GFF file"
   ]
  },
  {
   "cell_type": "markdown",
   "metadata": {},
   "source": [
    "## Convert GFF to Pandas DataFrame"
   ]
  },
  {
   "cell_type": "code",
   "execution_count": 4,
   "metadata": {},
   "outputs": [],
   "source": [
    "annot_list = []\n",
    "for filename in os.listdir(seq_dir):\n",
    "    if filename.endswith('.gff3'):\n",
    "        gff = os.path.join(seq_dir,filename)\n",
    "        annot_list.append(gff2pandas(gff))\n",
    "keep_cols = ['refseq','start','end','strand','gene_name','locus_tag','old_locus_tag','gene_product','ncbi_protein']\n",
    "DF_annot = pd.concat(annot_list)[keep_cols]\n",
    "DF_annot = DF_annot.drop_duplicates('locus_tag')\n",
    "DF_annot.set_index('locus_tag',drop=True,inplace=True)"
   ]
  },
  {
   "cell_type": "code",
   "execution_count": 5,
   "metadata": {},
   "outputs": [],
   "source": [
    "tpm_file = os.path.join(org_dir,'data','log_tpm.csv')\n",
    "DF_log_tpm = pd.read_csv(tpm_file,index_col=0)"
   ]
  },
  {
   "cell_type": "markdown",
   "metadata": {},
   "source": [
    "Check that the genes are the same in the expression dataset as in the annotation dataframe."
   ]
  },
  {
   "cell_type": "code",
   "execution_count": 6,
   "metadata": {},
   "outputs": [
    {
     "data": {
      "text/html": [
       "<div>\n",
       "<style scoped>\n",
       "    .dataframe tbody tr th:only-of-type {\n",
       "        vertical-align: middle;\n",
       "    }\n",
       "\n",
       "    .dataframe tbody tr th {\n",
       "        vertical-align: top;\n",
       "    }\n",
       "\n",
       "    .dataframe thead th {\n",
       "        text-align: right;\n",
       "    }\n",
       "</style>\n",
       "<table border=\"1\" class=\"dataframe\">\n",
       "  <thead>\n",
       "    <tr style=\"text-align: right;\">\n",
       "      <th></th>\n",
       "      <th>refseq</th>\n",
       "      <th>start</th>\n",
       "      <th>end</th>\n",
       "      <th>strand</th>\n",
       "      <th>gene_name</th>\n",
       "      <th>old_locus_tag</th>\n",
       "      <th>gene_product</th>\n",
       "      <th>ncbi_protein</th>\n",
       "    </tr>\n",
       "    <tr>\n",
       "      <th>locus_tag</th>\n",
       "      <th></th>\n",
       "      <th></th>\n",
       "      <th></th>\n",
       "      <th></th>\n",
       "      <th></th>\n",
       "      <th></th>\n",
       "      <th></th>\n",
       "      <th></th>\n",
       "    </tr>\n",
       "  </thead>\n",
       "  <tbody>\n",
       "  </tbody>\n",
       "</table>\n",
       "</div>"
      ],
      "text/plain": [
       "Empty DataFrame\n",
       "Columns: [refseq, start, end, strand, gene_name, old_locus_tag, gene_product, ncbi_protein]\n",
       "Index: []"
      ]
     },
     "execution_count": 6,
     "metadata": {},
     "output_type": "execute_result"
    }
   ],
   "source": [
    "# Mismatched genes are listed below\n",
    "test = DF_annot.sort_index().index == DF_log_tpm.sort_index().index\n",
    "DF_annot[~test]"
   ]
  },
  {
   "cell_type": "markdown",
   "metadata": {},
   "source": [
    "# Parse TRN File"
   ]
  },
  {
   "cell_type": "code",
   "execution_count": 7,
   "metadata": {},
   "outputs": [
    {
     "data": {
      "text/html": [
       "<div>\n",
       "<style scoped>\n",
       "    .dataframe tbody tr th:only-of-type {\n",
       "        vertical-align: middle;\n",
       "    }\n",
       "\n",
       "    .dataframe tbody tr th {\n",
       "        vertical-align: top;\n",
       "    }\n",
       "\n",
       "    .dataframe thead th {\n",
       "        text-align: right;\n",
       "    }\n",
       "</style>\n",
       "<table border=\"1\" class=\"dataframe\">\n",
       "  <thead>\n",
       "    <tr style=\"text-align: right;\">\n",
       "      <th></th>\n",
       "      <th>regulator_old</th>\n",
       "      <th>gene_id_old</th>\n",
       "    </tr>\n",
       "  </thead>\n",
       "  <tbody>\n",
       "    <tr>\n",
       "      <th>0</th>\n",
       "      <td>PSPTO1158</td>\n",
       "      <td>PSPTO1157</td>\n",
       "    </tr>\n",
       "    <tr>\n",
       "      <th>1</th>\n",
       "      <td>PSPTO1158</td>\n",
       "      <td>PSPTO1156</td>\n",
       "    </tr>\n",
       "    <tr>\n",
       "      <th>2</th>\n",
       "      <td>PSPTO1158</td>\n",
       "      <td>PSPTO1155</td>\n",
       "    </tr>\n",
       "    <tr>\n",
       "      <th>3</th>\n",
       "      <td>PSPTO1158</td>\n",
       "      <td>PSPTO1154</td>\n",
       "    </tr>\n",
       "    <tr>\n",
       "      <th>4</th>\n",
       "      <td>PSPTO1158</td>\n",
       "      <td>PSPTO1153</td>\n",
       "    </tr>\n",
       "    <tr>\n",
       "      <th>...</th>\n",
       "      <td>...</td>\n",
       "      <td>...</td>\n",
       "    </tr>\n",
       "    <tr>\n",
       "      <th>295</th>\n",
       "      <td>PSPTO5504</td>\n",
       "      <td>PSPTO5507</td>\n",
       "    </tr>\n",
       "    <tr>\n",
       "      <th>296</th>\n",
       "      <td>PSPTO2792</td>\n",
       "      <td>PSPTO2792</td>\n",
       "    </tr>\n",
       "    <tr>\n",
       "      <th>297</th>\n",
       "      <td>PSPTO2792</td>\n",
       "      <td>PSPTO2793</td>\n",
       "    </tr>\n",
       "    <tr>\n",
       "      <th>298</th>\n",
       "      <td>PSPTO2792</td>\n",
       "      <td>PSPTO2794</td>\n",
       "    </tr>\n",
       "    <tr>\n",
       "      <th>299</th>\n",
       "      <td>PSPTO2792</td>\n",
       "      <td>PSPTO2795</td>\n",
       "    </tr>\n",
       "  </tbody>\n",
       "</table>\n",
       "<p>300 rows × 2 columns</p>\n",
       "</div>"
      ],
      "text/plain": [
       "    regulator_old gene_id_old\n",
       "0       PSPTO1158   PSPTO1157\n",
       "1       PSPTO1158   PSPTO1156\n",
       "2       PSPTO1158   PSPTO1155\n",
       "3       PSPTO1158   PSPTO1154\n",
       "4       PSPTO1158   PSPTO1153\n",
       "..            ...         ...\n",
       "295     PSPTO5504   PSPTO5507\n",
       "296     PSPTO2792   PSPTO2792\n",
       "297     PSPTO2792   PSPTO2793\n",
       "298     PSPTO2792   PSPTO2794\n",
       "299     PSPTO2792   PSPTO2795\n",
       "\n",
       "[300 rows x 2 columns]"
      ]
     },
     "execution_count": 7,
     "metadata": {},
     "output_type": "execute_result"
    }
   ],
   "source": [
    "DF_TRN = pd.DataFrame(columns=['regulator_old', 'gene_id_old'])\n",
    "\n",
    "with open(os.path.join(org_dir,'data','trn_regprecise.txt')) as trn_text: \n",
    "    lines = trn_text.readlines()\n",
    "    current_regulator = None\n",
    "    lines = [line for line in lines if line != '\\n']\n",
    "    for line in lines:\n",
    "        \n",
    "        line = line.strip()\n",
    "        if line[:4] == \"# TF\":\n",
    "            tf_id = re.search(r'(PSPTO[A-z0-9]{4,5})', line).group(0)\n",
    "            current_regulator = tf_id\n",
    "        elif line[:5] == \"# RNA\":\n",
    "            rna_id = line[8:]\n",
    "            current_regulator = rna_id\n",
    "        else:\n",
    "            gene_id = line.split('\\t')[1].replace('_', '')\n",
    "            DF_TRN = DF_TRN.append({'regulator_old': current_regulator, 'gene_id_old': gene_id}, ignore_index=True)\n",
    "\n",
    "DF_TRN"
   ]
  },
  {
   "cell_type": "markdown",
   "metadata": {},
   "source": [
    "We need to convert the old locus tags used in the RegPrecise TRN into the new locus tags used in our gene annotation and expression data"
   ]
  },
  {
   "cell_type": "code",
   "execution_count": 8,
   "metadata": {},
   "outputs": [],
   "source": [
    "def prune_old_tag_annot(old_tag):\n",
    "    if type(old_tag) == str:\n",
    "        tags = old_tag.split('%2C')\n",
    "        tag_to_use = None\n",
    "        for tag in tags:\n",
    "            if '_' not in tag:\n",
    "                tag_to_use = tag\n",
    "                break\n",
    "    else:\n",
    "        tag_to_use = None\n",
    "    return tag_to_use\n",
    "\n",
    "DF_annot['old_locus_tag_parsed'] = DF_annot['old_locus_tag'].apply(prune_old_tag_annot)\n",
    "\n",
    "DF_annot_old_tag_known = DF_annot[DF_annot['old_locus_tag_parsed'].notna()]\n",
    "\n",
    "old_to_new_lookup = dict(zip(DF_annot_old_tag_known['old_locus_tag_parsed'], DF_annot_old_tag_known.index))"
   ]
  },
  {
   "cell_type": "code",
   "execution_count": 9,
   "metadata": {},
   "outputs": [
    {
     "data": {
      "text/html": [
       "<div>\n",
       "<style scoped>\n",
       "    .dataframe tbody tr th:only-of-type {\n",
       "        vertical-align: middle;\n",
       "    }\n",
       "\n",
       "    .dataframe tbody tr th {\n",
       "        vertical-align: top;\n",
       "    }\n",
       "\n",
       "    .dataframe thead th {\n",
       "        text-align: right;\n",
       "    }\n",
       "</style>\n",
       "<table border=\"1\" class=\"dataframe\">\n",
       "  <thead>\n",
       "    <tr style=\"text-align: right;\">\n",
       "      <th></th>\n",
       "      <th>regulator_old</th>\n",
       "      <th>gene_id_old</th>\n",
       "      <th>regulator</th>\n",
       "      <th>gene_id</th>\n",
       "    </tr>\n",
       "  </thead>\n",
       "  <tbody>\n",
       "    <tr>\n",
       "      <th>0</th>\n",
       "      <td>PSPTO1158</td>\n",
       "      <td>PSPTO1157</td>\n",
       "      <td>PSPTO_RS06115</td>\n",
       "      <td>PSPTO_RS06110</td>\n",
       "    </tr>\n",
       "    <tr>\n",
       "      <th>1</th>\n",
       "      <td>PSPTO1158</td>\n",
       "      <td>PSPTO1156</td>\n",
       "      <td>PSPTO_RS06115</td>\n",
       "      <td>PSPTO_RS06105</td>\n",
       "    </tr>\n",
       "    <tr>\n",
       "      <th>2</th>\n",
       "      <td>PSPTO1158</td>\n",
       "      <td>PSPTO1155</td>\n",
       "      <td>PSPTO_RS06115</td>\n",
       "      <td>PSPTO_RS06100</td>\n",
       "    </tr>\n",
       "    <tr>\n",
       "      <th>3</th>\n",
       "      <td>PSPTO1158</td>\n",
       "      <td>PSPTO1154</td>\n",
       "      <td>PSPTO_RS06115</td>\n",
       "      <td>PSPTO_RS06095</td>\n",
       "    </tr>\n",
       "    <tr>\n",
       "      <th>4</th>\n",
       "      <td>PSPTO1158</td>\n",
       "      <td>PSPTO1153</td>\n",
       "      <td>PSPTO_RS06115</td>\n",
       "      <td>PSPTO_RS06090</td>\n",
       "    </tr>\n",
       "  </tbody>\n",
       "</table>\n",
       "</div>"
      ],
      "text/plain": [
       "  regulator_old gene_id_old      regulator        gene_id\n",
       "0     PSPTO1158   PSPTO1157  PSPTO_RS06115  PSPTO_RS06110\n",
       "1     PSPTO1158   PSPTO1156  PSPTO_RS06115  PSPTO_RS06105\n",
       "2     PSPTO1158   PSPTO1155  PSPTO_RS06115  PSPTO_RS06100\n",
       "3     PSPTO1158   PSPTO1154  PSPTO_RS06115  PSPTO_RS06095\n",
       "4     PSPTO1158   PSPTO1153  PSPTO_RS06115  PSPTO_RS06090"
      ]
     },
     "execution_count": 9,
     "metadata": {},
     "output_type": "execute_result"
    }
   ],
   "source": [
    "def regulator_old_to_new(old_reg):\n",
    "    if 'PSPTO' in old_reg:\n",
    "        return old_to_new_lookup.get(old_reg)\n",
    "    else:\n",
    "        return old_reg\n",
    "\n",
    "DF_TRN['regulator'] = DF_TRN['regulator_old'].apply(regulator_old_to_new)\n",
    "DF_TRN['gene_id'] = DF_TRN['gene_id_old'].apply(lambda old_id: old_to_new_lookup.get(old_id))\n",
    "DF_TRN.head()"
   ]
  },
  {
   "cell_type": "code",
   "execution_count": 10,
   "metadata": {},
   "outputs": [
    {
     "data": {
      "text/html": [
       "<div>\n",
       "<style scoped>\n",
       "    .dataframe tbody tr th:only-of-type {\n",
       "        vertical-align: middle;\n",
       "    }\n",
       "\n",
       "    .dataframe tbody tr th {\n",
       "        vertical-align: top;\n",
       "    }\n",
       "\n",
       "    .dataframe thead th {\n",
       "        text-align: right;\n",
       "    }\n",
       "</style>\n",
       "<table border=\"1\" class=\"dataframe\">\n",
       "  <thead>\n",
       "    <tr style=\"text-align: right;\">\n",
       "      <th></th>\n",
       "      <th>regulator_old</th>\n",
       "      <th>gene_id_old</th>\n",
       "      <th>regulator</th>\n",
       "      <th>gene_id</th>\n",
       "    </tr>\n",
       "  </thead>\n",
       "  <tbody>\n",
       "  </tbody>\n",
       "</table>\n",
       "</div>"
      ],
      "text/plain": [
       "Empty DataFrame\n",
       "Columns: [regulator_old, gene_id_old, regulator, gene_id]\n",
       "Index: []"
      ]
     },
     "execution_count": 10,
     "metadata": {},
     "output_type": "execute_result"
    }
   ],
   "source": [
    "DF_TRN[(DF_TRN['regulator'].isna()) | (DF_TRN['gene_id'].isna())]"
   ]
  },
  {
   "cell_type": "code",
   "execution_count": 11,
   "metadata": {},
   "outputs": [],
   "source": [
    "DF_TRN.to_csv(os.path.join(org_dir,'data','TRN.csv'))"
   ]
  },
  {
   "cell_type": "markdown",
   "metadata": {},
   "source": [
    "# KEGG and COGs"
   ]
  },
  {
   "cell_type": "markdown",
   "metadata": {},
   "source": [
    "## Generate nucleotide fasta files for CDS"
   ]
  },
  {
   "cell_type": "code",
   "execution_count": 12,
   "metadata": {},
   "outputs": [],
   "source": [
    "cds_list = []\n",
    "for filename in os.listdir(seq_dir):\n",
    "    if filename.endswith('.fasta'):\n",
    "        fasta = os.path.join(seq_dir,filename)\n",
    "        seq = SeqIO.read(fasta,'fasta')\n",
    "        \n",
    "        # Get gene information for genes in this fasta file\n",
    "        df_genes = DF_annot[DF_annot.refseq == seq.id]\n",
    "        for i,row in df_genes.iterrows():\n",
    "            cds = seq[row.start-1:row.end]\n",
    "            if row.strand == '-':\n",
    "                cds = seq[row.start-1:row.end].reverse_complement()\n",
    "            cds.id = row.name\n",
    "            cds.description = row.gene_name if pd.notnull(row.gene_name) else row.name\n",
    "            cds_list.append(cds)"
   ]
  },
  {
   "cell_type": "code",
   "execution_count": 13,
   "metadata": {
    "scrolled": true
   },
   "outputs": [
    {
     "data": {
      "text/plain": [
       "5906"
      ]
     },
     "execution_count": 13,
     "metadata": {},
     "output_type": "execute_result"
    }
   ],
   "source": [
    "SeqIO.write(cds_list,os.path.join(seq_dir,'CDS.fna'),'fasta')"
   ]
  },
  {
   "cell_type": "markdown",
   "metadata": {},
   "source": [
    "## Run EggNOG Mapper\n",
    "1. Go to http://eggnog-mapper.embl.de/.\n",
    "1. Upload the CDS.fna file from your organism directory (within the sequence_files folder)\n",
    "1. Make sure to limit the taxonomy to the correct level\n",
    "1. After the job is submitted, you must follow the link in your email to run the job.\n",
    "1. Once the job completes (after ~4 hrs), download the annotations file.\n",
    "1. Save the annotation file to `<org_dir>/data/eggNOG.annotations`"
   ]
  },
  {
   "cell_type": "markdown",
   "metadata": {},
   "source": [
    "## Get KEGG attributes"
   ]
  },
  {
   "cell_type": "code",
   "execution_count": 14,
   "metadata": {},
   "outputs": [],
   "source": [
    "DF_eggnog = pd.read_csv(os.path.join(org_dir,'data','eggNOG.annotations'),sep='\\t',skiprows=4,header=None)\n",
    "eggnog_cols = ['query_name','seed eggNOG ortholog','seed ortholog evalue','seed ortholog score',\n",
    "               'Predicted taxonomic group','Predicted protein name','Gene Ontology terms',\n",
    "               'EC number','KEGG_orth','KEGG_pathway','KEGG_module','KEGG_reaction',\n",
    "               'KEGG_rclass','BRITE','KEGG_TC','CAZy','BiGG Reaction','tax_scope',\n",
    "               'eggNOG OGs','bestOG_deprecated','COG','eggNOG free text description']\n",
    "\n",
    "DF_eggnog.columns = eggnog_cols\n",
    "\n",
    "# Strip last three rows as they are comments\n",
    "DF_eggnog = DF_eggnog.iloc[:-3]\n",
    "\n",
    "# Set locus tag as index\n",
    "DF_eggnog = DF_eggnog.set_index('query_name')\n",
    "DF_eggnog.index.name = 'locus_tag'"
   ]
  },
  {
   "cell_type": "code",
   "execution_count": 15,
   "metadata": {
    "scrolled": true
   },
   "outputs": [
    {
     "data": {
      "text/html": [
       "<div>\n",
       "<style scoped>\n",
       "    .dataframe tbody tr th:only-of-type {\n",
       "        vertical-align: middle;\n",
       "    }\n",
       "\n",
       "    .dataframe tbody tr th {\n",
       "        vertical-align: top;\n",
       "    }\n",
       "\n",
       "    .dataframe thead th {\n",
       "        text-align: right;\n",
       "    }\n",
       "</style>\n",
       "<table border=\"1\" class=\"dataframe\">\n",
       "  <thead>\n",
       "    <tr style=\"text-align: right;\">\n",
       "      <th></th>\n",
       "      <th>gene_id</th>\n",
       "      <th>database</th>\n",
       "      <th>kegg_id</th>\n",
       "    </tr>\n",
       "  </thead>\n",
       "  <tbody>\n",
       "    <tr>\n",
       "      <th>2891</th>\n",
       "      <td>PSPTO_RS29195</td>\n",
       "      <td>KEGG_pathway</td>\n",
       "      <td>map02026</td>\n",
       "    </tr>\n",
       "    <tr>\n",
       "      <th>2894</th>\n",
       "      <td>PSPTO_RS00005</td>\n",
       "      <td>KEGG_pathway</td>\n",
       "      <td>map02020</td>\n",
       "    </tr>\n",
       "    <tr>\n",
       "      <th>2895</th>\n",
       "      <td>PSPTO_RS00005</td>\n",
       "      <td>KEGG_pathway</td>\n",
       "      <td>map04112</td>\n",
       "    </tr>\n",
       "    <tr>\n",
       "      <th>2902</th>\n",
       "      <td>PSPTO_RS00010</td>\n",
       "      <td>KEGG_pathway</td>\n",
       "      <td>map00230</td>\n",
       "    </tr>\n",
       "    <tr>\n",
       "      <th>2903</th>\n",
       "      <td>PSPTO_RS00010</td>\n",
       "      <td>KEGG_pathway</td>\n",
       "      <td>map00240</td>\n",
       "    </tr>\n",
       "  </tbody>\n",
       "</table>\n",
       "</div>"
      ],
      "text/plain": [
       "            gene_id      database   kegg_id\n",
       "2891  PSPTO_RS29195  KEGG_pathway  map02026\n",
       "2894  PSPTO_RS00005  KEGG_pathway  map02020\n",
       "2895  PSPTO_RS00005  KEGG_pathway  map04112\n",
       "2902  PSPTO_RS00010  KEGG_pathway  map00230\n",
       "2903  PSPTO_RS00010  KEGG_pathway  map00240"
      ]
     },
     "execution_count": 15,
     "metadata": {},
     "output_type": "execute_result"
    }
   ],
   "source": [
    "DF_kegg = DF_eggnog[['KEGG_orth','KEGG_pathway','KEGG_module','KEGG_reaction']]\n",
    "\n",
    "# Melt dataframe\n",
    "DF_kegg = DF_kegg.reset_index().melt(id_vars='locus_tag') \n",
    "\n",
    "# Remove null values\n",
    "DF_kegg = DF_kegg[DF_kegg.value.notnull()]\n",
    "\n",
    "# Split comma-separated values into their own rows\n",
    "list2struct = []\n",
    "for name,row in DF_kegg.iterrows():\n",
    "    for val in row.value.split(','):\n",
    "        list2struct.append([row.locus_tag,row.variable,val])\n",
    "\n",
    "DF_kegg = pd.DataFrame(list2struct,columns=['gene_id','database','kegg_id'])\n",
    "\n",
    "# Remove ko entries, as only map entries are searchable in KEGG pathway\n",
    "DF_kegg = DF_kegg[~DF_kegg.kegg_id.str.startswith('ko')]\n",
    "\n",
    "DF_kegg.head()"
   ]
  },
  {
   "cell_type": "markdown",
   "metadata": {},
   "source": [
    "## Save KEGG information"
   ]
  },
  {
   "cell_type": "code",
   "execution_count": 16,
   "metadata": {},
   "outputs": [],
   "source": [
    "DF_kegg.to_csv(os.path.join(org_dir,'data','kegg_mapping.csv'))"
   ]
  },
  {
   "cell_type": "markdown",
   "metadata": {},
   "source": [
    "## Save COGs to annotation dataframe"
   ]
  },
  {
   "cell_type": "code",
   "execution_count": 17,
   "metadata": {},
   "outputs": [],
   "source": [
    "DF_annot['COG'] = DF_eggnog.COG\n",
    "\n",
    "# Make sure COG only has one entry per gene\n",
    "DF_annot['COG'] = [item[0] if isinstance(item,str) else item for item in DF_annot['COG']]"
   ]
  },
  {
   "cell_type": "markdown",
   "metadata": {},
   "source": [
    "# Uniprot ID mapping"
   ]
  },
  {
   "cell_type": "code",
   "execution_count": 18,
   "metadata": {},
   "outputs": [],
   "source": [
    "# Try the uniprot ID mapping tool - Use EMBL for Genbank file and P_REFSEQ_AC for Refseq file\n",
    "mapping_uniprot = uniprot_id_mapping(DF_annot.ncbi_protein.fillna(''),input_id='P_REFSEQ_AC',output_id='ACC',\n",
    "                             input_name='ncbi_protein',output_name='uniprot')\n",
    "\n",
    "# Merge with current annotation\n",
    "DF_annot = pd.merge(DF_annot.reset_index(),mapping_uniprot,how='left',on='ncbi_protein')\n",
    "DF_annot.set_index('locus_tag',inplace=True)\n",
    "assert(len(DF_annot) == len(DF_annot))"
   ]
  },
  {
   "cell_type": "code",
   "execution_count": 19,
   "metadata": {},
   "outputs": [
    {
     "data": {
      "text/html": [
       "<div>\n",
       "<style scoped>\n",
       "    .dataframe tbody tr th:only-of-type {\n",
       "        vertical-align: middle;\n",
       "    }\n",
       "\n",
       "    .dataframe tbody tr th {\n",
       "        vertical-align: top;\n",
       "    }\n",
       "\n",
       "    .dataframe thead th {\n",
       "        text-align: right;\n",
       "    }\n",
       "</style>\n",
       "<table border=\"1\" class=\"dataframe\">\n",
       "  <thead>\n",
       "    <tr style=\"text-align: right;\">\n",
       "      <th></th>\n",
       "      <th>refseq</th>\n",
       "      <th>start</th>\n",
       "      <th>end</th>\n",
       "      <th>strand</th>\n",
       "      <th>gene_name</th>\n",
       "      <th>old_locus_tag</th>\n",
       "      <th>gene_product</th>\n",
       "      <th>ncbi_protein</th>\n",
       "      <th>old_locus_tag_parsed</th>\n",
       "      <th>COG</th>\n",
       "      <th>uniprot</th>\n",
       "    </tr>\n",
       "    <tr>\n",
       "      <th>locus_tag</th>\n",
       "      <th></th>\n",
       "      <th></th>\n",
       "      <th></th>\n",
       "      <th></th>\n",
       "      <th></th>\n",
       "      <th></th>\n",
       "      <th></th>\n",
       "      <th></th>\n",
       "      <th></th>\n",
       "      <th></th>\n",
       "      <th></th>\n",
       "    </tr>\n",
       "  </thead>\n",
       "  <tbody>\n",
       "    <tr>\n",
       "      <th>PSPTO_RS29075</th>\n",
       "      <td>NC_004632.1</td>\n",
       "      <td>350</td>\n",
       "      <td>1660</td>\n",
       "      <td>+</td>\n",
       "      <td>None</td>\n",
       "      <td>NaN</td>\n",
       "      <td>replication protein A</td>\n",
       "      <td>None</td>\n",
       "      <td>None</td>\n",
       "      <td>K</td>\n",
       "      <td>NaN</td>\n",
       "    </tr>\n",
       "    <tr>\n",
       "      <th>PSPTO_RS29080</th>\n",
       "      <td>NC_004632.1</td>\n",
       "      <td>1841</td>\n",
       "      <td>3070</td>\n",
       "      <td>-</td>\n",
       "      <td>None</td>\n",
       "      <td>PSPTO_B0002%2CPSPTOB0002</td>\n",
       "      <td>IS91 family transposase</td>\n",
       "      <td>WP_004667395.1</td>\n",
       "      <td>PSPTOB0002</td>\n",
       "      <td>L</td>\n",
       "      <td>Q877Q5</td>\n",
       "    </tr>\n",
       "    <tr>\n",
       "      <th>PSPTO_RS29085</th>\n",
       "      <td>NC_004632.1</td>\n",
       "      <td>3277</td>\n",
       "      <td>3750</td>\n",
       "      <td>+</td>\n",
       "      <td>None</td>\n",
       "      <td>PSPTO_B0003%2CPSPTOB0003</td>\n",
       "      <td>DUF3757 domain-containing protein</td>\n",
       "      <td>WP_011102937.1</td>\n",
       "      <td>PSPTOB0003</td>\n",
       "      <td>S</td>\n",
       "      <td>A0A0N8T433</td>\n",
       "    </tr>\n",
       "    <tr>\n",
       "      <th>PSPTO_RS29090</th>\n",
       "      <td>NC_004632.1</td>\n",
       "      <td>3813</td>\n",
       "      <td>3938</td>\n",
       "      <td>-</td>\n",
       "      <td>None</td>\n",
       "      <td>NaN</td>\n",
       "      <td>IS91 family transposase</td>\n",
       "      <td>None</td>\n",
       "      <td>None</td>\n",
       "      <td>L</td>\n",
       "      <td>NaN</td>\n",
       "    </tr>\n",
       "    <tr>\n",
       "      <th>PSPTO_RS29095</th>\n",
       "      <td>NC_004632.1</td>\n",
       "      <td>4424</td>\n",
       "      <td>6106</td>\n",
       "      <td>-</td>\n",
       "      <td>None</td>\n",
       "      <td>PSPTO_B0005%2CPSPTOB0005</td>\n",
       "      <td>acid phosphatase</td>\n",
       "      <td>WP_011106957.1</td>\n",
       "      <td>PSPTOB0005</td>\n",
       "      <td>M</td>\n",
       "      <td>A0A0P9TTF4</td>\n",
       "    </tr>\n",
       "  </tbody>\n",
       "</table>\n",
       "</div>"
      ],
      "text/plain": [
       "                    refseq  start   end strand gene_name  \\\n",
       "locus_tag                                                  \n",
       "PSPTO_RS29075  NC_004632.1    350  1660      +      None   \n",
       "PSPTO_RS29080  NC_004632.1   1841  3070      -      None   \n",
       "PSPTO_RS29085  NC_004632.1   3277  3750      +      None   \n",
       "PSPTO_RS29090  NC_004632.1   3813  3938      -      None   \n",
       "PSPTO_RS29095  NC_004632.1   4424  6106      -      None   \n",
       "\n",
       "                          old_locus_tag                       gene_product  \\\n",
       "locus_tag                                                                    \n",
       "PSPTO_RS29075                       NaN              replication protein A   \n",
       "PSPTO_RS29080  PSPTO_B0002%2CPSPTOB0002            IS91 family transposase   \n",
       "PSPTO_RS29085  PSPTO_B0003%2CPSPTOB0003  DUF3757 domain-containing protein   \n",
       "PSPTO_RS29090                       NaN            IS91 family transposase   \n",
       "PSPTO_RS29095  PSPTO_B0005%2CPSPTOB0005                   acid phosphatase   \n",
       "\n",
       "                 ncbi_protein old_locus_tag_parsed COG     uniprot  \n",
       "locus_tag                                                           \n",
       "PSPTO_RS29075            None                 None   K         NaN  \n",
       "PSPTO_RS29080  WP_004667395.1           PSPTOB0002   L      Q877Q5  \n",
       "PSPTO_RS29085  WP_011102937.1           PSPTOB0003   S  A0A0N8T433  \n",
       "PSPTO_RS29090            None                 None   L         NaN  \n",
       "PSPTO_RS29095  WP_011106957.1           PSPTOB0005   M  A0A0P9TTF4  "
      ]
     },
     "execution_count": 19,
     "metadata": {},
     "output_type": "execute_result"
    }
   ],
   "source": [
    "DF_annot.head()"
   ]
  },
  {
   "cell_type": "markdown",
   "metadata": {},
   "source": [
    "# Clean up and save annotation"
   ]
  },
  {
   "cell_type": "code",
   "execution_count": 20,
   "metadata": {},
   "outputs": [],
   "source": [
    "# Temporarily remove warning\n",
    "pd.set_option('mode.chained_assignment', None)"
   ]
  },
  {
   "cell_type": "code",
   "execution_count": 21,
   "metadata": {},
   "outputs": [],
   "source": [
    "# Reorder annotation file\n",
    "if 'old_locus_tag' in DF_annot.columns:\n",
    "    order = ['gene_name','old_locus_tag','start','end','strand','gene_product','COG','uniprot']\n",
    "else:\n",
    "    order = ['gene_name','start','end','strand','gene_product','COG','uniprot']\n",
    "    \n",
    "DF_annot = DF_annot[order]"
   ]
  },
  {
   "cell_type": "code",
   "execution_count": 22,
   "metadata": {},
   "outputs": [
    {
     "data": {
      "text/html": [
       "<div>\n",
       "<style scoped>\n",
       "    .dataframe tbody tr th:only-of-type {\n",
       "        vertical-align: middle;\n",
       "    }\n",
       "\n",
       "    .dataframe tbody tr th {\n",
       "        vertical-align: top;\n",
       "    }\n",
       "\n",
       "    .dataframe thead th {\n",
       "        text-align: right;\n",
       "    }\n",
       "</style>\n",
       "<table border=\"1\" class=\"dataframe\">\n",
       "  <thead>\n",
       "    <tr style=\"text-align: right;\">\n",
       "      <th></th>\n",
       "      <th>gene_name</th>\n",
       "      <th>old_locus_tag</th>\n",
       "      <th>start</th>\n",
       "      <th>end</th>\n",
       "      <th>strand</th>\n",
       "      <th>gene_product</th>\n",
       "      <th>COG</th>\n",
       "      <th>uniprot</th>\n",
       "    </tr>\n",
       "    <tr>\n",
       "      <th>locus_tag</th>\n",
       "      <th></th>\n",
       "      <th></th>\n",
       "      <th></th>\n",
       "      <th></th>\n",
       "      <th></th>\n",
       "      <th></th>\n",
       "      <th></th>\n",
       "      <th></th>\n",
       "    </tr>\n",
       "  </thead>\n",
       "  <tbody>\n",
       "    <tr>\n",
       "      <th>PSPTO_RS29075</th>\n",
       "      <td>None</td>\n",
       "      <td>NaN</td>\n",
       "      <td>350</td>\n",
       "      <td>1660</td>\n",
       "      <td>+</td>\n",
       "      <td>replication protein A</td>\n",
       "      <td>K</td>\n",
       "      <td>NaN</td>\n",
       "    </tr>\n",
       "    <tr>\n",
       "      <th>PSPTO_RS29080</th>\n",
       "      <td>None</td>\n",
       "      <td>PSPTO_B0002%2CPSPTOB0002</td>\n",
       "      <td>1841</td>\n",
       "      <td>3070</td>\n",
       "      <td>-</td>\n",
       "      <td>IS91 family transposase</td>\n",
       "      <td>L</td>\n",
       "      <td>Q877Q5</td>\n",
       "    </tr>\n",
       "    <tr>\n",
       "      <th>PSPTO_RS29085</th>\n",
       "      <td>None</td>\n",
       "      <td>PSPTO_B0003%2CPSPTOB0003</td>\n",
       "      <td>3277</td>\n",
       "      <td>3750</td>\n",
       "      <td>+</td>\n",
       "      <td>DUF3757 domain-containing protein</td>\n",
       "      <td>S</td>\n",
       "      <td>A0A0N8T433</td>\n",
       "    </tr>\n",
       "    <tr>\n",
       "      <th>PSPTO_RS29090</th>\n",
       "      <td>None</td>\n",
       "      <td>NaN</td>\n",
       "      <td>3813</td>\n",
       "      <td>3938</td>\n",
       "      <td>-</td>\n",
       "      <td>IS91 family transposase</td>\n",
       "      <td>L</td>\n",
       "      <td>NaN</td>\n",
       "    </tr>\n",
       "    <tr>\n",
       "      <th>PSPTO_RS29095</th>\n",
       "      <td>None</td>\n",
       "      <td>PSPTO_B0005%2CPSPTOB0005</td>\n",
       "      <td>4424</td>\n",
       "      <td>6106</td>\n",
       "      <td>-</td>\n",
       "      <td>acid phosphatase</td>\n",
       "      <td>M</td>\n",
       "      <td>A0A0P9TTF4</td>\n",
       "    </tr>\n",
       "  </tbody>\n",
       "</table>\n",
       "</div>"
      ],
      "text/plain": [
       "              gene_name             old_locus_tag  start   end strand  \\\n",
       "locus_tag                                                               \n",
       "PSPTO_RS29075      None                       NaN    350  1660      +   \n",
       "PSPTO_RS29080      None  PSPTO_B0002%2CPSPTOB0002   1841  3070      -   \n",
       "PSPTO_RS29085      None  PSPTO_B0003%2CPSPTOB0003   3277  3750      +   \n",
       "PSPTO_RS29090      None                       NaN   3813  3938      -   \n",
       "PSPTO_RS29095      None  PSPTO_B0005%2CPSPTOB0005   4424  6106      -   \n",
       "\n",
       "                                    gene_product COG     uniprot  \n",
       "locus_tag                                                         \n",
       "PSPTO_RS29075              replication protein A   K         NaN  \n",
       "PSPTO_RS29080            IS91 family transposase   L      Q877Q5  \n",
       "PSPTO_RS29085  DUF3757 domain-containing protein   S  A0A0N8T433  \n",
       "PSPTO_RS29090            IS91 family transposase   L         NaN  \n",
       "PSPTO_RS29095                   acid phosphatase   M  A0A0P9TTF4  "
      ]
     },
     "execution_count": 22,
     "metadata": {},
     "output_type": "execute_result"
    }
   ],
   "source": [
    "DF_annot.head()"
   ]
  },
  {
   "cell_type": "markdown",
   "metadata": {},
   "source": [
    "## Final statistics"
   ]
  },
  {
   "cell_type": "code",
   "execution_count": 23,
   "metadata": {},
   "outputs": [],
   "source": [
    "import seaborn as sns\n",
    "import matplotlib.pyplot as plt"
   ]
  },
  {
   "cell_type": "code",
   "execution_count": 24,
   "metadata": {},
   "outputs": [],
   "source": [
    "sns.set_style('ticks')"
   ]
  },
  {
   "cell_type": "code",
   "execution_count": 25,
   "metadata": {},
   "outputs": [
    {
     "data": {
      "image/png": "[encoded data removed]",
      "text/plain": [
       "<Figure size 432x288 with 1 Axes>"
      ]
     },
     "metadata": {},
     "output_type": "display_data"
    }
   ],
   "source": [
    "fig,ax = plt.subplots()\n",
    "DF_annot.count().plot(kind='bar',ax=ax)\n",
    "ax.set_ylabel('# of Values',fontsize=18)\n",
    "ax.tick_params(labelsize=16)"
   ]
  },
  {
   "cell_type": "markdown",
   "metadata": {},
   "source": [
    "## Fill missing values"
   ]
  },
  {
   "cell_type": "code",
   "execution_count": 26,
   "metadata": {},
   "outputs": [],
   "source": [
    "# Fill in missing gene names with locus tag names\n",
    "DF_annot['tmp_name'] = DF_annot.copy().index.tolist()\n",
    "DF_annot.gene_name.fillna(DF_annot.tmp_name,inplace=True)\n",
    "DF_annot.drop('tmp_name',axis=1,inplace=True)\n",
    "\n",
    "# Fill missing COGs with X\n",
    "DF_annot['COG'].fillna('X',inplace=True)\n",
    "\n",
    "# Change single letter COG annotation to full description\n",
    "DF_annot['COG'] = DF_annot.COG.apply(cog2str)"
   ]
  },
  {
   "cell_type": "code",
   "execution_count": 27,
   "metadata": {},
   "outputs": [
    {
     "data": {
      "image/png": "[encoded data removed]",
      "text/plain": [
       "<Figure size 432x288 with 1 Axes>"
      ]
     },
     "metadata": {},
     "output_type": "display_data"
    }
   ],
   "source": [
    "counts = DF_annot.COG.value_counts()\n",
    "plt.pie(counts.values,labels=counts.index);"
   ]
  },
  {
   "cell_type": "code",
   "execution_count": 28,
   "metadata": {},
   "outputs": [],
   "source": [
    "DF_annot.to_csv(os.path.join(org_dir,'data','gene_info.csv'))"
   ]
  },
  {
   "cell_type": "markdown",
   "metadata": {},
   "source": [
    "# GO Annotations"
   ]
  },
  {
   "cell_type": "markdown",
   "metadata": {},
   "source": [
    "To start, download the GO Annotations for your organism from AmiGO 2\n",
    "1. Go to http://amigo.geneontology.org/amigo/search/annotation\n",
    "1. Filter for your organism\n",
    "1. Click `CustomDL`\n",
    "1. Drag `GO class (direct)` to the end of your Selected Fields\n",
    "1. Save as `GO_annotations.txt` in the `data` folder of your organism directory"
   ]
  },
  {
   "cell_type": "code",
   "execution_count": 29,
   "metadata": {},
   "outputs": [
    {
     "data": {
      "text/html": [
       "<div>\n",
       "<style scoped>\n",
       "    .dataframe tbody tr th:only-of-type {\n",
       "        vertical-align: middle;\n",
       "    }\n",
       "\n",
       "    .dataframe tbody tr th {\n",
       "        vertical-align: top;\n",
       "    }\n",
       "\n",
       "    .dataframe thead th {\n",
       "        text-align: right;\n",
       "    }\n",
       "</style>\n",
       "<table border=\"1\" class=\"dataframe\">\n",
       "  <thead>\n",
       "    <tr style=\"text-align: right;\">\n",
       "      <th></th>\n",
       "      <th>gene_id</th>\n",
       "      <th>gene_ontology</th>\n",
       "    </tr>\n",
       "  </thead>\n",
       "  <tbody>\n",
       "    <tr>\n",
       "      <th>0</th>\n",
       "      <td>PSPTO_2656</td>\n",
       "      <td>molecular_function</td>\n",
       "    </tr>\n",
       "    <tr>\n",
       "      <th>1</th>\n",
       "      <td>PSPTO_2656</td>\n",
       "      <td>biological_process</td>\n",
       "    </tr>\n",
       "    <tr>\n",
       "      <th>2</th>\n",
       "      <td>PSPTO_3396</td>\n",
       "      <td>structural molecule activity</td>\n",
       "    </tr>\n",
       "    <tr>\n",
       "      <th>3</th>\n",
       "      <td>PSPTO_3396</td>\n",
       "      <td>viral process</td>\n",
       "    </tr>\n",
       "    <tr>\n",
       "      <th>4</th>\n",
       "      <td>PSPTO_2726</td>\n",
       "      <td>molecular_function</td>\n",
       "    </tr>\n",
       "  </tbody>\n",
       "</table>\n",
       "</div>"
      ],
      "text/plain": [
       "      gene_id                 gene_ontology\n",
       "0  PSPTO_2656            molecular_function\n",
       "1  PSPTO_2656            biological_process\n",
       "2  PSPTO_3396  structural molecule activity\n",
       "3  PSPTO_3396                 viral process\n",
       "4  PSPTO_2726            molecular_function"
      ]
     },
     "execution_count": 29,
     "metadata": {},
     "output_type": "execute_result"
    }
   ],
   "source": [
    "DF_GO = pd.read_csv(os.path.join(org_dir,'data','GO_annotations.txt'),sep='\\t',header=None,usecols=[2,10,17])\n",
    "DF_GO.columns = ['gene_name','gene_id','gene_ontology']\n",
    "DF_GO.gene_id.fillna(DF_GO.gene_name,inplace=True)\n",
    "DF_GO = DF_GO[['gene_id','gene_ontology']]\n",
    "DF_GO.head()"
   ]
  },
  {
   "cell_type": "markdown",
   "metadata": {},
   "source": [
    "Take a look at the `gene_id` column:\n",
    "1. Make sure there are no null entries\n",
    "2. Check if it uses the new or old locus tag (if applicable)"
   ]
  },
  {
   "cell_type": "code",
   "execution_count": 46,
   "metadata": {},
   "outputs": [],
   "source": [
    "DF_GO = DF_GO[~DF_GO['gene_id'].str.contains('\\|')]"
   ]
  },
  {
   "cell_type": "code",
   "execution_count": 49,
   "metadata": {},
   "outputs": [],
   "source": [
    "# Uncomment this code to replace old locus tag with new locus tag\n",
    "\n",
    "old_to_new_lookup_underscore = {f'{k[:5]}_{k[5:]}': v for k, v in old_to_new_lookup.items()}\n",
    "DF_GO.gene_id = DF_GO.gene_id.apply(lambda x: old_to_new_lookup_underscore.get(x))"
   ]
  },
  {
   "cell_type": "code",
   "execution_count": 51,
   "metadata": {},
   "outputs": [],
   "source": [
    "DF_GO = DF_GO[~DF_GO.gene_id.isnull()]"
   ]
  },
  {
   "cell_type": "code",
   "execution_count": 52,
   "metadata": {},
   "outputs": [
    {
     "data": {
      "text/html": [
       "<div>\n",
       "<style scoped>\n",
       "    .dataframe tbody tr th:only-of-type {\n",
       "        vertical-align: middle;\n",
       "    }\n",
       "\n",
       "    .dataframe tbody tr th {\n",
       "        vertical-align: top;\n",
       "    }\n",
       "\n",
       "    .dataframe thead th {\n",
       "        text-align: right;\n",
       "    }\n",
       "</style>\n",
       "<table border=\"1\" class=\"dataframe\">\n",
       "  <thead>\n",
       "    <tr style=\"text-align: right;\">\n",
       "      <th></th>\n",
       "      <th>gene_id</th>\n",
       "      <th>gene_ontology</th>\n",
       "    </tr>\n",
       "  </thead>\n",
       "  <tbody>\n",
       "    <tr>\n",
       "      <th>0</th>\n",
       "      <td>PSPTO_RS13735</td>\n",
       "      <td>molecular_function</td>\n",
       "    </tr>\n",
       "    <tr>\n",
       "      <th>1</th>\n",
       "      <td>PSPTO_RS13735</td>\n",
       "      <td>biological_process</td>\n",
       "    </tr>\n",
       "    <tr>\n",
       "      <th>2</th>\n",
       "      <td>PSPTO_RS17555</td>\n",
       "      <td>structural molecule activity</td>\n",
       "    </tr>\n",
       "    <tr>\n",
       "      <th>3</th>\n",
       "      <td>PSPTO_RS17555</td>\n",
       "      <td>viral process</td>\n",
       "    </tr>\n",
       "    <tr>\n",
       "      <th>4</th>\n",
       "      <td>PSPTO_RS14095</td>\n",
       "      <td>molecular_function</td>\n",
       "    </tr>\n",
       "  </tbody>\n",
       "</table>\n",
       "</div>"
      ],
      "text/plain": [
       "         gene_id                 gene_ontology\n",
       "0  PSPTO_RS13735            molecular_function\n",
       "1  PSPTO_RS13735            biological_process\n",
       "2  PSPTO_RS17555  structural molecule activity\n",
       "3  PSPTO_RS17555                 viral process\n",
       "4  PSPTO_RS14095            molecular_function"
      ]
     },
     "execution_count": 52,
     "metadata": {},
     "output_type": "execute_result"
    }
   ],
   "source": [
    "DF_GO.head()"
   ]
  },
  {
   "cell_type": "code",
   "execution_count": 53,
   "metadata": {},
   "outputs": [],
   "source": [
    "DF_GO[['gene_id','gene_ontology']].to_csv(os.path.join(org_dir,'data','GO_annotations.csv'))"
   ]
  },
  {
   "cell_type": "code",
   "execution_count": null,
   "metadata": {},
   "outputs": [],
   "source": []
  }
 ],
 "metadata": {
  "kernelspec": {
   "display_name": "Python 3",
   "language": "python",
   "name": "python3"
  },
  "language_info": {
   "codemirror_mode": {
    "name": "ipython",
    "version": 3
   },
   "file_extension": ".py",
   "mimetype": "text/x-python",
   "name": "python",
   "nbconvert_exporter": "python",
   "pygments_lexer": "ipython3",
   "version": "3.8.5"
  },
  "toc": {
   "base_numbering": 1,
   "nav_menu": {},
   "number_sections": true,
   "sideBar": true,
   "skip_h1_title": false,
   "title_cell": "Table of Contents",
   "title_sidebar": "Contents",
   "toc_cell": true,
   "toc_position": {},
   "toc_section_display": true,
   "toc_window_display": false
  }
 },
 "nbformat": 4,
 "nbformat_minor": 2
}
