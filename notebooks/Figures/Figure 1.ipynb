{
 "cells": [
  {
   "cell_type": "markdown",
   "id": "ae0423a2",
   "metadata": {},
   "source": [
    "# Code for creating Figure 1"
   ]
  },
  {
   "cell_type": "code",
   "execution_count": 7,
   "id": "9e88300a",
   "metadata": {},
   "outputs": [],
   "source": [
    "from pymodulon.core import IcaData\n",
    "from pymodulon.plotting import *\n",
    "from pymodulon.io import *\n",
    "import pandas as pd\n",
    "import numpy as np\n",
    "import matplotlib\n",
    "import matplotlib.pyplot as plt\n",
    "from pymodulon.compare import *\n",
    "from tqdm.notebook import tqdm\n",
    "from matplotlib_venn import venn3\n",
    "\n",
    "matplotlib.rcParams['pdf.fonttype'] = 42\n",
    "matplotlib.rcParams['ps.fonttype'] = 42\n",
    "matplotlib.rcParams['svg.fonttype'] = 'none'\n",
    "matplotlib.rcParams['font.sans-serif'] = 'Arial'\n",
    "matplotlib.rcParams['font.family'] = 'sans-serif'\n",
    "sns.set_style('ticks')\n",
    "matplotlib.rcParams['text.color'] = '#000000'\n",
    "matplotlib.rcParams['axes.labelcolor'] = '#000000'\n",
    "matplotlib.rcParams['xtick.color'] = '#000000'\n",
    "matplotlib.rcParams['ytick.color'] = '#000000'"
   ]
  },
  {
   "cell_type": "code",
   "execution_count": 8,
   "id": "f2cd022c",
   "metadata": {},
   "outputs": [],
   "source": [
    "# Load ICA object \n",
    "ica_PS = load_json_model('p_syringae_2.json')"
   ]
  },
  {
   "cell_type": "markdown",
   "id": "ef585421",
   "metadata": {},
   "source": [
    "### Figure 1A: \n",
    "Obtained from https://doi.org/10.1101/2021.07.01.450581\n",
    "\n",
    "### Figure 1B \n",
    "Created on BioRender (https://biorender.com/)\n",
    "\n",
    "### Figure 1C\n",
    "Created on Microsoft Excel (https://www.microsoft.com/en-us/microsoft-365/excel)"
   ]
  },
  {
   "cell_type": "markdown",
   "id": "1c84fc0c",
   "metadata": {},
   "source": [
    "### Figure 1D"
   ]
  },
  {
   "cell_type": "code",
   "execution_count": 53,
   "id": "7555942a",
   "metadata": {},
   "outputs": [],
   "source": [
    "# Genes differentially activated in AlgU overexpression strain (https://journals.asm.org/doi/10.1128/JB.00276-16)\n",
    "s = pd.read_excel('algU_regulon_2.xlsx')\n",
    "s = s.set_index('Locus')\n",
    "\n",
    "#total genes present in both s and in gene table\n",
    "count = 0\n",
    "\n",
    "#genes in s and in AlgU iM\n",
    "algU_genes = []\n",
    "algU_genes_count = 0\n",
    "for idx, row in s.iterrows():\n",
    "    if idx in ica_PS.gene_table.index.values:\n",
    "        count += 1\n",
    "#         print(idx, ':', ica_PS.imodulons_with(idx))\n",
    "        if 'AlgU' in ica_PS.imodulons_with(idx):\n",
    "            algU_genes_count += 1\n",
    "            algU_genes.append(idx)\n",
    "\n",
    "#core regulon gene members (https://journals.asm.org/doi/10.1128/JB.00276-16)\n",
    "reg_mem = ['PSPTO_0152','PSPTO_0462','PSPTO_0463', 'PSPTO_0464','PSPTO_1631','PSPTO_1632','PSPTO_1633', \n",
    "           'PSPTO_3176','PSPTO_4575', 'PSPTO_4576', 'PSPTO_4577','PSPTO_4578','PSPTO_0675','PSPTO_1232',\n",
    "           'PSPTO_1233','PSPTO_1234', 'PSPTO_1235','PSPTO_1236', 'PSPTO_1237', 'PSPTO_1238','PSPTO_1239',\n",
    "           'PSPTO_1240','PSPTO_1241','PSPTO_1242','PSPTO_1243']"
   ]
  },
  {
   "cell_type": "code",
   "execution_count": 54,
   "id": "ad85a2da",
   "metadata": {},
   "outputs": [
    {
     "name": "stdout",
     "output_type": "stream",
     "text": [
      "AlgU iM unique genes: 49\n",
      "unique genes in the differentially expressed gene list: 668\n",
      "genes only shared by differentially expressed gene list and AlgU iM: 183\n",
      "genes shared by differentially expressed gene list and the core regulon: 25\n",
      "genes shared by AlgU iM and the core regulon: 21\n",
      "genes only shared by core regulon and differentially expressed gene list: 4\n"
     ]
    }
   ],
   "source": [
    "def intersection(lst1, lst2):\n",
    "    lst3 = [value for value in lst1 if value in lst2]\n",
    "    return lst3\n",
    "\n",
    "print('AlgU iM unique genes:',ica_PS.view_imodulon('AlgU').shape[0] - len(intersection(s.index.tolist(), algU_genes)))\n",
    "print('unique genes in the differentially expressed gene list:', count - len(intersection(s.index.tolist(), algU_genes))-len(reg_mem) +len (intersection(algU_genes, reg_mem)))\n",
    "print('genes only shared by differentially expressed gene list and AlgU iM:', len(intersection(s.index.tolist(), algU_genes)) - len(intersection(algU_genes, reg_mem)))\n",
    "print('genes shared by differentially expressed gene list and the core regulon:',len(intersection(s.index.tolist(), reg_mem)))\n",
    "print('genes shared by AlgU iM and the core regulon:',len(intersection(algU_genes, reg_mem)))\n",
    "print('genes only shared by core regulon and differentially expressed gene list:', len(reg_mem) - len(intersection(algU_genes, reg_mem)))"
   ]
  },
  {
   "cell_type": "code",
   "execution_count": 55,
   "id": "fcd26876",
   "metadata": {},
   "outputs": [
    {
     "data": {
      "text/plain": [
       "<matplotlib_venn._common.VennDiagram at 0x2561bc28a00>"
      ]
     },
     "execution_count": 55,
     "metadata": {},
     "output_type": "execute_result"
    },
    {
     "data": {
      "image/png": "[encoded data removed]",
      "text/plain": [
       "<Figure size 432x288 with 1 Axes>"
      ]
     },
     "metadata": {},
     "output_type": "display_data"
    }
   ],
   "source": [
    "venn3(subsets = (49, 668, 183, 0, 0, 4, 21), set_labels = ('AlgU iModulon', 'AlgU overexpression strain','AlgU core regulon'))"
   ]
  },
  {
   "cell_type": "markdown",
   "id": "e3064582",
   "metadata": {},
   "source": [
    "## Figure 1E\n",
    "Created on Biorender (https://biorender.com/)"
   ]
  },
  {
   "cell_type": "markdown",
   "id": "1258d3b4",
   "metadata": {},
   "source": [
    "# Figure 1F\n",
    "#### AlgU activity plots"
   ]
  },
  {
   "cell_type": "code",
   "execution_count": 5,
   "id": "0ca117e1",
   "metadata": {},
   "outputs": [
    {
     "name": "stderr",
     "output_type": "stream",
     "text": [
      "C:\\Users\\99hee\\AppData\\Local\\Programs\\Python\\Python310\\lib\\site-packages\\pymodulon\\plotting.py:111: FutureWarning: The default value of numeric_only in DataFrameGroupBy.mean is deprecated. In a future version, numeric_only will default to False. Either specify numeric_only or select only columns which should be valid for the function.\n",
      "  bar_vals = metadata.groupby(\"x\").mean()\n"
     ]
    },
    {
     "data": {
      "text/plain": [
       "<AxesSubplot: ylabel='AlgU iModulon\\nActivity'>"
      ]
     },
     "execution_count": 5,
     "metadata": {},
     "output_type": "execute_result"
    },
    {
     "data": {
      "image/png": "[encoded data removed]",
      "text/plain": [
       "<Figure size 64.8x144 with 1 Axes>"
      ]
     },
     "metadata": {
      "needs_background": "light"
     },
     "output_type": "display_data"
    }
   ],
   "source": [
    "plot_activities(ica_PS, 'AlgU', projects = 'algU_regulon')"
   ]
  },
  {
   "cell_type": "code",
   "execution_count": 6,
   "id": "1e4f3126",
   "metadata": {},
   "outputs": [
    {
     "data": {
      "text/plain": [
       "(-15.0, 70.0)"
      ]
     },
     "execution_count": 6,
     "metadata": {},
     "output_type": "execute_result"
    },
    {
     "data": {
      "image/png": "[encoded data removed]",
      "text/plain": [
       "<Figure size 432x288 with 1 Axes>"
      ]
     },
     "metadata": {
      "needs_background": "light"
     },
     "output_type": "display_data"
    }
   ],
   "source": [
    "# creating a dataframe of all samples, activity level in the AlgU iModulon, and category (AlgU deletion strain --> del_algU;\n",
    "# AlgU overexpression strain --> algU_overexpression; all oher samples --> all other samples)\n",
    "\n",
    "algU_df = pd.DataFrame(columns = ['sample','algU_A_val','category'])\n",
    "algU_df['sample'] = ica_PS.sample_table.index.values\n",
    "\n",
    "for idx, row in algU_df.iterrows():\n",
    "    algU_df.loc[idx, 'algU_A_val'] = ica_PS.A.loc['AlgU',algU_df.loc[idx, 'sample']]\n",
    "    if ica_PS.sample_table.loc[algU_df.loc[idx, 'sample'], 'condition_name'] == 'algU_overexpression':\n",
    "        algU_df.loc[idx, 'category'] = 'algU_overexpression'\n",
    "    elif ica_PS.sample_table.loc[algU_df.loc[idx, 'sample'], 'condition_name'] == 'empty_vector':\n",
    "        algU_df.loc[idx, 'category'] = 'del_algU'\n",
    "    else:\n",
    "        algU_df.loc[idx, 'category'] = 'all_other_samples'\n",
    "\n",
    "# plotting boxplot \n",
    "\n",
    "ax =sns.boxplot(data = algU_df, y = 'algU_A_val', x = 'category', order = ['all_other_samples'])\n",
    "ax.set_ylim([-15, 70])"
   ]
  }
 ],
 "metadata": {
  "kernelspec": {
   "display_name": "Python 3 (ipykernel)",
   "language": "python",
   "name": "python3"
  },
  "language_info": {
   "codemirror_mode": {
    "name": "ipython",
    "version": 3
   },
   "file_extension": ".py",
   "mimetype": "text/x-python",
   "name": "python",
   "nbconvert_exporter": "python",
   "pygments_lexer": "ipython3",
   "version": "3.10.0"
  }
 },
 "nbformat": 4,
 "nbformat_minor": 5
}
