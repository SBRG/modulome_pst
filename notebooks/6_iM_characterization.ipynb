{
 "cells": [
  {
   "cell_type": "code",
   "execution_count": 1,
   "metadata": {},
   "outputs": [],
   "source": [
    "from pymodulon.core import IcaData\n",
    "from pymodulon.visualization import *\n",
    "from pymodulon.io import load_json_model, save_to_json\n",
    "import pandas as pd\n",
    "\n",
    "pd.set_option('display.max_rows', 500)"
   ]
  },
  {
   "cell_type": "markdown",
   "metadata": {},
   "source": [
    "# Load Data"
   ]
  },
  {
   "cell_type": "code",
   "execution_count": 2,
   "metadata": {},
   "outputs": [],
   "source": [
    "ica_data = load_json_model('../data/p_syringae.json')"
   ]
  },
  {
   "cell_type": "code",
   "execution_count": 3,
   "metadata": {},
   "outputs": [],
   "source": [
    "go_enrichments = pd.read_csv('../data/GO_enrichments.csv', index_col=0)\n",
    "kegg_pathway_enrichments = pd.read_csv('../data/kegg_pathway_enrichments.csv', index_col=0)\n",
    "kegg_module_enrichments = pd.read_csv('../data/kegg_module_enrichments.csv', index_col=0)"
   ]
  },
  {
   "cell_type": "markdown",
   "metadata": {},
   "source": [
    "# iModulon Investigation\n",
    "\n",
    "Use this block with any iModulon to attempt to annotate it"
   ]
  },
  {
   "cell_type": "code",
   "execution_count": 4,
   "metadata": {},
   "outputs": [
    {
     "name": "stdout",
     "output_type": "stream",
     "text": [
      "All iModulons:\n",
      "['Nitrogen', '1', 'Motility', 'Sulfur-1', 'Recombination', '5', 'IS-elements', 'Molybdenum', 'Alginate', 'Resistance', 'Sulfur-2', '11', 'Plasmid A', 'Carb Transport', 'Chaperone', 'Coronatine', '16', '17', 'Nt/Ribosome', 'single_gene_1', 'single_gene_2', 'Fe/Protein Transport', 'Inositol', 'Phage', 'Protocatechuate', 'Flagella-1', 'Fur', 'Bactin', '28', 'Fatty Acid', 'Phosphate', 'Secretion', 'Folate', 'Pyoverdine', '34', 'Flagella-2', 'Translation', 'T3SS', 'Glycan', 'Copper', '40', 'single_gene_3', 'single_gene_4', 'single_gene_5', 'Fe-S']\n"
     ]
    }
   ],
   "source": [
    "print('All iModulons:')\n",
    "print(ica_data.imodulon_names)"
   ]
  },
  {
   "cell_type": "code",
   "execution_count": 571,
   "metadata": {},
   "outputs": [],
   "source": [
    "iM_to_annotate = '44'"
   ]
  },
  {
   "cell_type": "markdown",
   "metadata": {},
   "source": [
    "## Check GO and KEGG Enrichments"
   ]
  },
  {
   "cell_type": "code",
   "execution_count": 572,
   "metadata": {},
   "outputs": [
    {
     "data": {
      "text/html": [
       "<div>\n",
       "<style scoped>\n",
       "    .dataframe tbody tr th:only-of-type {\n",
       "        vertical-align: middle;\n",
       "    }\n",
       "\n",
       "    .dataframe tbody tr th {\n",
       "        vertical-align: top;\n",
       "    }\n",
       "\n",
       "    .dataframe thead th {\n",
       "        text-align: right;\n",
       "    }\n",
       "</style>\n",
       "<table border=\"1\" class=\"dataframe\">\n",
       "  <thead>\n",
       "    <tr style=\"text-align: right;\">\n",
       "      <th></th>\n",
       "      <th>imodulon</th>\n",
       "      <th>gene_ontology</th>\n",
       "      <th>pvalue</th>\n",
       "      <th>qvalue</th>\n",
       "      <th>precision</th>\n",
       "      <th>recall</th>\n",
       "      <th>f1score</th>\n",
       "      <th>TP</th>\n",
       "      <th>target_set_size</th>\n",
       "      <th>imodulon_size</th>\n",
       "    </tr>\n",
       "  </thead>\n",
       "  <tbody>\n",
       "  </tbody>\n",
       "</table>\n",
       "</div>"
      ],
      "text/plain": [
       "Empty DataFrame\n",
       "Columns: [imodulon, gene_ontology, pvalue, qvalue, precision, recall, f1score, TP, target_set_size, imodulon_size]\n",
       "Index: []"
      ]
     },
     "execution_count": 572,
     "metadata": {},
     "output_type": "execute_result"
    }
   ],
   "source": [
    "go_enrichments[go_enrichments['imodulon'] == iM_to_annotate]"
   ]
  },
  {
   "cell_type": "code",
   "execution_count": 573,
   "metadata": {},
   "outputs": [
    {
     "data": {
      "text/html": [
       "<div>\n",
       "<style scoped>\n",
       "    .dataframe tbody tr th:only-of-type {\n",
       "        vertical-align: middle;\n",
       "    }\n",
       "\n",
       "    .dataframe tbody tr th {\n",
       "        vertical-align: top;\n",
       "    }\n",
       "\n",
       "    .dataframe thead th {\n",
       "        text-align: right;\n",
       "    }\n",
       "</style>\n",
       "<table border=\"1\" class=\"dataframe\">\n",
       "  <thead>\n",
       "    <tr style=\"text-align: right;\">\n",
       "      <th></th>\n",
       "      <th>imodulon</th>\n",
       "      <th>kegg_id</th>\n",
       "      <th>pvalue</th>\n",
       "      <th>qvalue</th>\n",
       "      <th>precision</th>\n",
       "      <th>recall</th>\n",
       "      <th>f1score</th>\n",
       "      <th>TP</th>\n",
       "      <th>target_set_size</th>\n",
       "      <th>imodulon_size</th>\n",
       "      <th>pathway_name</th>\n",
       "    </tr>\n",
       "  </thead>\n",
       "  <tbody>\n",
       "    <tr>\n",
       "      <th>40</th>\n",
       "      <td>44</td>\n",
       "      <td>map04068</td>\n",
       "      <td>0.000016</td>\n",
       "      <td>0.001816</td>\n",
       "      <td>0.500000</td>\n",
       "      <td>0.2</td>\n",
       "      <td>0.285714</td>\n",
       "      <td>2</td>\n",
       "      <td>4</td>\n",
       "      <td>10</td>\n",
       "      <td>FoxO signaling pathway</td>\n",
       "    </tr>\n",
       "    <tr>\n",
       "      <th>41</th>\n",
       "      <td>44</td>\n",
       "      <td>map04211</td>\n",
       "      <td>0.000016</td>\n",
       "      <td>0.001816</td>\n",
       "      <td>0.500000</td>\n",
       "      <td>0.2</td>\n",
       "      <td>0.285714</td>\n",
       "      <td>2</td>\n",
       "      <td>4</td>\n",
       "      <td>10</td>\n",
       "      <td>Longevity regulating pathway</td>\n",
       "    </tr>\n",
       "    <tr>\n",
       "      <th>42</th>\n",
       "      <td>44</td>\n",
       "      <td>map04213</td>\n",
       "      <td>0.000039</td>\n",
       "      <td>0.003021</td>\n",
       "      <td>0.333333</td>\n",
       "      <td>0.2</td>\n",
       "      <td>0.250000</td>\n",
       "      <td>2</td>\n",
       "      <td>6</td>\n",
       "      <td>10</td>\n",
       "      <td>Longevity regulating pathway - multiple species</td>\n",
       "    </tr>\n",
       "    <tr>\n",
       "      <th>43</th>\n",
       "      <td>44</td>\n",
       "      <td>map04212</td>\n",
       "      <td>0.000054</td>\n",
       "      <td>0.003170</td>\n",
       "      <td>0.285714</td>\n",
       "      <td>0.2</td>\n",
       "      <td>0.235294</td>\n",
       "      <td>2</td>\n",
       "      <td>7</td>\n",
       "      <td>10</td>\n",
       "      <td>Longevity regulating pathway - worm</td>\n",
       "    </tr>\n",
       "    <tr>\n",
       "      <th>44</th>\n",
       "      <td>44</td>\n",
       "      <td>map04146</td>\n",
       "      <td>0.000115</td>\n",
       "      <td>0.005419</td>\n",
       "      <td>0.200000</td>\n",
       "      <td>0.2</td>\n",
       "      <td>0.200000</td>\n",
       "      <td>2</td>\n",
       "      <td>10</td>\n",
       "      <td>10</td>\n",
       "      <td>Peroxisome</td>\n",
       "    </tr>\n",
       "    <tr>\n",
       "      <th>45</th>\n",
       "      <td>44</td>\n",
       "      <td>map04011</td>\n",
       "      <td>0.003384</td>\n",
       "      <td>0.088355</td>\n",
       "      <td>0.500000</td>\n",
       "      <td>0.1</td>\n",
       "      <td>0.166667</td>\n",
       "      <td>1</td>\n",
       "      <td>2</td>\n",
       "      <td>10</td>\n",
       "      <td>MAPK signaling pathway - yeast</td>\n",
       "    </tr>\n",
       "    <tr>\n",
       "      <th>46</th>\n",
       "      <td>44</td>\n",
       "      <td>map04013</td>\n",
       "      <td>0.003384</td>\n",
       "      <td>0.088355</td>\n",
       "      <td>0.500000</td>\n",
       "      <td>0.1</td>\n",
       "      <td>0.166667</td>\n",
       "      <td>1</td>\n",
       "      <td>2</td>\n",
       "      <td>10</td>\n",
       "      <td>MAPK signaling pathway - fly</td>\n",
       "    </tr>\n",
       "    <tr>\n",
       "      <th>47</th>\n",
       "      <td>44</td>\n",
       "      <td>map04934</td>\n",
       "      <td>0.003384</td>\n",
       "      <td>0.088355</td>\n",
       "      <td>0.500000</td>\n",
       "      <td>0.1</td>\n",
       "      <td>0.166667</td>\n",
       "      <td>1</td>\n",
       "      <td>2</td>\n",
       "      <td>10</td>\n",
       "      <td>Cushing syndrome</td>\n",
       "    </tr>\n",
       "    <tr>\n",
       "      <th>48</th>\n",
       "      <td>44</td>\n",
       "      <td>map05211</td>\n",
       "      <td>0.003384</td>\n",
       "      <td>0.088355</td>\n",
       "      <td>0.500000</td>\n",
       "      <td>0.1</td>\n",
       "      <td>0.166667</td>\n",
       "      <td>1</td>\n",
       "      <td>2</td>\n",
       "      <td>10</td>\n",
       "      <td>Renal cell carcinoma</td>\n",
       "    </tr>\n",
       "  </tbody>\n",
       "</table>\n",
       "</div>"
      ],
      "text/plain": [
       "   imodulon   kegg_id    pvalue    qvalue  precision  recall   f1score  TP  \\\n",
       "40       44  map04068  0.000016  0.001816   0.500000     0.2  0.285714   2   \n",
       "41       44  map04211  0.000016  0.001816   0.500000     0.2  0.285714   2   \n",
       "42       44  map04213  0.000039  0.003021   0.333333     0.2  0.250000   2   \n",
       "43       44  map04212  0.000054  0.003170   0.285714     0.2  0.235294   2   \n",
       "44       44  map04146  0.000115  0.005419   0.200000     0.2  0.200000   2   \n",
       "45       44  map04011  0.003384  0.088355   0.500000     0.1  0.166667   1   \n",
       "46       44  map04013  0.003384  0.088355   0.500000     0.1  0.166667   1   \n",
       "47       44  map04934  0.003384  0.088355   0.500000     0.1  0.166667   1   \n",
       "48       44  map05211  0.003384  0.088355   0.500000     0.1  0.166667   1   \n",
       "\n",
       "    target_set_size  imodulon_size  \\\n",
       "40                4             10   \n",
       "41                4             10   \n",
       "42                6             10   \n",
       "43                7             10   \n",
       "44               10             10   \n",
       "45                2             10   \n",
       "46                2             10   \n",
       "47                2             10   \n",
       "48                2             10   \n",
       "\n",
       "                                       pathway_name  \n",
       "40                           FoxO signaling pathway  \n",
       "41                     Longevity regulating pathway  \n",
       "42  Longevity regulating pathway - multiple species  \n",
       "43              Longevity regulating pathway - worm  \n",
       "44                                       Peroxisome  \n",
       "45                   MAPK signaling pathway - yeast  \n",
       "46                     MAPK signaling pathway - fly  \n",
       "47                                 Cushing syndrome  \n",
       "48                             Renal cell carcinoma  "
      ]
     },
     "execution_count": 573,
     "metadata": {},
     "output_type": "execute_result"
    }
   ],
   "source": [
    "kegg_pathway_enrichments[kegg_pathway_enrichments['imodulon'] == iM_to_annotate]"
   ]
  },
  {
   "cell_type": "markdown",
   "metadata": {},
   "source": [
    "## Show Gene Information for iModulon"
   ]
  },
  {
   "cell_type": "code",
   "execution_count": 574,
   "metadata": {
    "scrolled": true
   },
   "outputs": [
    {
     "data": {
      "text/html": [
       "<div>\n",
       "<style scoped>\n",
       "    .dataframe tbody tr th:only-of-type {\n",
       "        vertical-align: middle;\n",
       "    }\n",
       "\n",
       "    .dataframe tbody tr th {\n",
       "        vertical-align: top;\n",
       "    }\n",
       "\n",
       "    .dataframe thead th {\n",
       "        text-align: right;\n",
       "    }\n",
       "</style>\n",
       "<table border=\"1\" class=\"dataframe\">\n",
       "  <thead>\n",
       "    <tr style=\"text-align: right;\">\n",
       "      <th></th>\n",
       "      <th>start</th>\n",
       "      <th>gene_weight</th>\n",
       "      <th>gene_name</th>\n",
       "      <th>gene_product</th>\n",
       "      <th>COG</th>\n",
       "      <th>regulator</th>\n",
       "      <th>uniprot</th>\n",
       "    </tr>\n",
       "  </thead>\n",
       "  <tbody>\n",
       "    <tr>\n",
       "      <th>PSPTO_RS03595</th>\n",
       "      <td>736029</td>\n",
       "      <td>0.127332</td>\n",
       "      <td>PSPTO_RS03595</td>\n",
       "      <td>outer membrane beta-barrel protein</td>\n",
       "      <td>Cell wall/membrane/envelope biogenesis</td>\n",
       "      <td>NaN</td>\n",
       "      <td>A0A099SR93</td>\n",
       "    </tr>\n",
       "    <tr>\n",
       "      <th>PSPTO_RS21030</th>\n",
       "      <td>4562312</td>\n",
       "      <td>0.075265</td>\n",
       "      <td>PSPTO_RS21030</td>\n",
       "      <td>DUF4224 domain-containing protein</td>\n",
       "      <td>No COG annotation</td>\n",
       "      <td>NaN</td>\n",
       "      <td>A0A0P9RMP9</td>\n",
       "    </tr>\n",
       "    <tr>\n",
       "      <th>PSPTO_RS18500</th>\n",
       "      <td>4040584</td>\n",
       "      <td>-0.074324</td>\n",
       "      <td>PSPTO_RS18500</td>\n",
       "      <td>catalase</td>\n",
       "      <td>Inorganic ion transport and metabolism</td>\n",
       "      <td>NaN</td>\n",
       "      <td>UPI0006210671</td>\n",
       "    </tr>\n",
       "    <tr>\n",
       "      <th>PSPTO_RS07495</th>\n",
       "      <td>1567506</td>\n",
       "      <td>-0.075586</td>\n",
       "      <td>fdx</td>\n",
       "      <td>ISC system 2Fe-2S type ferredoxin</td>\n",
       "      <td>Energy production and conversion</td>\n",
       "      <td>PSPTO_RS07465</td>\n",
       "      <td>A0A0P9PPH9</td>\n",
       "    </tr>\n",
       "    <tr>\n",
       "      <th>PSPTO_RS12050</th>\n",
       "      <td>2575633</td>\n",
       "      <td>-0.079374</td>\n",
       "      <td>PSPTO_RS12050</td>\n",
       "      <td>hypothetical protein</td>\n",
       "      <td>No COG annotation</td>\n",
       "      <td>NaN</td>\n",
       "      <td>UPI0006AB9479</td>\n",
       "    </tr>\n",
       "    <tr>\n",
       "      <th>PSPTO_RS23095</th>\n",
       "      <td>5020901</td>\n",
       "      <td>-0.080749</td>\n",
       "      <td>PSPTO_RS23095</td>\n",
       "      <td>superoxide dismutase</td>\n",
       "      <td>Energy production and conversion</td>\n",
       "      <td>NaN</td>\n",
       "      <td>A0A0Q0BHQ4</td>\n",
       "    </tr>\n",
       "    <tr>\n",
       "      <th>PSPTO_RS07500</th>\n",
       "      <td>1567862</td>\n",
       "      <td>-0.082782</td>\n",
       "      <td>iscX</td>\n",
       "      <td>Fe-S cluster assembly protein IscX</td>\n",
       "      <td>Function unknown</td>\n",
       "      <td>PSPTO_RS07465</td>\n",
       "      <td>A0A0N8T401</td>\n",
       "    </tr>\n",
       "    <tr>\n",
       "      <th>PSPTO_RS23105</th>\n",
       "      <td>5022007</td>\n",
       "      <td>-0.091751</td>\n",
       "      <td>PSPTO_RS23105</td>\n",
       "      <td>class II fumarate hydratase</td>\n",
       "      <td>Energy production and conversion</td>\n",
       "      <td>NaN</td>\n",
       "      <td>Q87WT2</td>\n",
       "    </tr>\n",
       "    <tr>\n",
       "      <th>PSPTO_RS23100</th>\n",
       "      <td>5021513</td>\n",
       "      <td>-0.096106</td>\n",
       "      <td>PSPTO_RS23100</td>\n",
       "      <td>tetratricopeptide repeat protein</td>\n",
       "      <td>Function unknown</td>\n",
       "      <td>NaN</td>\n",
       "      <td>A0A099SWC3</td>\n",
       "    </tr>\n",
       "    <tr>\n",
       "      <th>PSPTO_RS23110</th>\n",
       "      <td>5023376</td>\n",
       "      <td>-0.106170</td>\n",
       "      <td>PSPTO_RS23110</td>\n",
       "      <td>hypothetical protein</td>\n",
       "      <td>Function unknown</td>\n",
       "      <td>NaN</td>\n",
       "      <td>A0A0N0WY71</td>\n",
       "    </tr>\n",
       "  </tbody>\n",
       "</table>\n",
       "</div>"
      ],
      "text/plain": [
       "                 start  gene_weight      gene_name  \\\n",
       "PSPTO_RS03595   736029     0.127332  PSPTO_RS03595   \n",
       "PSPTO_RS21030  4562312     0.075265  PSPTO_RS21030   \n",
       "PSPTO_RS18500  4040584    -0.074324  PSPTO_RS18500   \n",
       "PSPTO_RS07495  1567506    -0.075586            fdx   \n",
       "PSPTO_RS12050  2575633    -0.079374  PSPTO_RS12050   \n",
       "PSPTO_RS23095  5020901    -0.080749  PSPTO_RS23095   \n",
       "PSPTO_RS07500  1567862    -0.082782           iscX   \n",
       "PSPTO_RS23105  5022007    -0.091751  PSPTO_RS23105   \n",
       "PSPTO_RS23100  5021513    -0.096106  PSPTO_RS23100   \n",
       "PSPTO_RS23110  5023376    -0.106170  PSPTO_RS23110   \n",
       "\n",
       "                                     gene_product  \\\n",
       "PSPTO_RS03595  outer membrane beta-barrel protein   \n",
       "PSPTO_RS21030   DUF4224 domain-containing protein   \n",
       "PSPTO_RS18500                            catalase   \n",
       "PSPTO_RS07495   ISC system 2Fe-2S type ferredoxin   \n",
       "PSPTO_RS12050                hypothetical protein   \n",
       "PSPTO_RS23095                superoxide dismutase   \n",
       "PSPTO_RS07500  Fe-S cluster assembly protein IscX   \n",
       "PSPTO_RS23105         class II fumarate hydratase   \n",
       "PSPTO_RS23100    tetratricopeptide repeat protein   \n",
       "PSPTO_RS23110                hypothetical protein   \n",
       "\n",
       "                                                  COG      regulator  \\\n",
       "PSPTO_RS03595  Cell wall/membrane/envelope biogenesis            NaN   \n",
       "PSPTO_RS21030                       No COG annotation            NaN   \n",
       "PSPTO_RS18500  Inorganic ion transport and metabolism            NaN   \n",
       "PSPTO_RS07495        Energy production and conversion  PSPTO_RS07465   \n",
       "PSPTO_RS12050                       No COG annotation            NaN   \n",
       "PSPTO_RS23095        Energy production and conversion            NaN   \n",
       "PSPTO_RS07500                        Function unknown  PSPTO_RS07465   \n",
       "PSPTO_RS23105        Energy production and conversion            NaN   \n",
       "PSPTO_RS23100                        Function unknown            NaN   \n",
       "PSPTO_RS23110                        Function unknown            NaN   \n",
       "\n",
       "                     uniprot  \n",
       "PSPTO_RS03595     A0A099SR93  \n",
       "PSPTO_RS21030     A0A0P9RMP9  \n",
       "PSPTO_RS18500  UPI0006210671  \n",
       "PSPTO_RS07495     A0A0P9PPH9  \n",
       "PSPTO_RS12050  UPI0006AB9479  \n",
       "PSPTO_RS23095     A0A0Q0BHQ4  \n",
       "PSPTO_RS07500     A0A0N8T401  \n",
       "PSPTO_RS23105         Q87WT2  \n",
       "PSPTO_RS23100     A0A099SWC3  \n",
       "PSPTO_RS23110     A0A0N0WY71  "
      ]
     },
     "execution_count": 574,
     "metadata": {},
     "output_type": "execute_result"
    }
   ],
   "source": [
    "ica_data.view_imodulon(iM_to_annotate).sort_values(by='gene_weight', ascending=False)[[\n",
    "    'start', 'gene_weight', 'gene_name', 'gene_product', 'COG', 'regulator', 'uniprot'\n",
    "]]"
   ]
  },
  {
   "cell_type": "markdown",
   "metadata": {},
   "source": [
    "## Plot Gene Weights"
   ]
  },
  {
   "cell_type": "code",
   "execution_count": 575,
   "metadata": {},
   "outputs": [
    {
     "data": {
      "text/plain": [
       "<AxesSubplot:xlabel='Gene Start', ylabel='44 Gene Weight'>"
      ]
     },
     "execution_count": 575,
     "metadata": {},
     "output_type": "execute_result"
    },
    {
     "data": {
      "image/png": "[encoded data removed]",
      "text/plain": [
       "<Figure size 432x288 with 1 Axes>"
      ]
     },
     "metadata": {
      "needs_background": "light"
     },
     "output_type": "display_data"
    }
   ],
   "source": [
    "plot_gene_weights(ica_data, iM_to_annotate)"
   ]
  },
  {
   "cell_type": "markdown",
   "metadata": {},
   "source": [
    "## Plot Activities"
   ]
  },
  {
   "cell_type": "code",
   "execution_count": 576,
   "metadata": {},
   "outputs": [
    {
     "data": {
      "text/plain": [
       "<AxesSubplot:ylabel='44 iModulon\\nActivity'>"
      ]
     },
     "execution_count": 576,
     "metadata": {},
     "output_type": "execute_result"
    },
    {
     "data": {
      "image/png": "[encoded data removed]",
      "text/plain": [
       "<Figure size 1005.6x144 with 1 Axes>"
      ]
     },
     "metadata": {
      "needs_background": "light"
     },
     "output_type": "display_data"
    }
   ],
   "source": [
    "plot_activities(ica_data, iM_to_annotate)"
   ]
  },
  {
   "cell_type": "markdown",
   "metadata": {},
   "source": [
    "## Plot Regulon"
   ]
  },
  {
   "cell_type": "code",
   "execution_count": 516,
   "metadata": {},
   "outputs": [
    {
     "data": {
      "text/plain": [
       "<AxesSubplot:xlabel='36 Gene Weight', ylabel='Number of Genes'>"
      ]
     },
     "execution_count": 516,
     "metadata": {},
     "output_type": "execute_result"
    },
    {
     "data": {
      "image/png": "[encoded data removed]",
      "text/plain": [
       "<Figure size 432x288 with 1 Axes>"
      ]
     },
     "metadata": {
      "needs_background": "light"
     },
     "output_type": "display_data"
    }
   ],
   "source": [
    "plot_regulon_histogram(ica_data, iM_to_annotate, regulator=iM_to_annotate)"
   ]
  },
  {
   "cell_type": "markdown",
   "metadata": {},
   "source": [
    "## Rename iModulon"
   ]
  },
  {
   "cell_type": "code",
   "execution_count": 577,
   "metadata": {},
   "outputs": [],
   "source": [
    "ica_data.rename_imodulons({iM_to_annotate: 'Fe-S'})"
   ]
  },
  {
   "cell_type": "code",
   "execution_count": 578,
   "metadata": {},
   "outputs": [],
   "source": [
    "save_to_json(ica_data, '../data/p_syringae.json')"
   ]
  },
  {
   "cell_type": "code",
   "execution_count": null,
   "metadata": {},
   "outputs": [],
   "source": []
  }
 ],
 "metadata": {
  "kernelspec": {
   "display_name": "Python 3",
   "language": "python",
   "name": "python3"
  },
  "language_info": {
   "codemirror_mode": {
    "name": "ipython",
    "version": 3
   },
   "file_extension": ".py",
   "mimetype": "text/x-python",
   "name": "python",
   "nbconvert_exporter": "python",
   "pygments_lexer": "ipython3",
   "version": "3.8.5"
  },
  "toc": {
   "base_numbering": 1,
   "nav_menu": {},
   "number_sections": true,
   "sideBar": true,
   "skip_h1_title": false,
   "title_cell": "Table of Contents",
   "title_sidebar": "Contents",
   "toc_cell": true,
   "toc_position": {},
   "toc_section_display": true,
   "toc_window_display": false
  }
 },
 "nbformat": 4,
 "nbformat_minor": 1
}
